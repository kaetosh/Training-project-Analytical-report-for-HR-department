{
 "cells": [
  {
   "cell_type": "markdown",
   "metadata": {
    "colab_type": "text",
    "id": "Fd3_VqqaHVAN"
   },
   "source": [
    "# Курсовая работа № 2\n",
    "## Аналитика. Начальный уровень\n",
    "\n",
    "Курсовая работа состоит из двух частей – обязательной и дополнительной. **Для зачета необходимо выполнение только первой части.** Выполнение второй части может потребовать дополнительные знания Python.\n",
    "\n",
    "- [Часть первая](#Часть-первая)\n",
    "- [Часть вторая](#Часть-вторая)"
   ]
  },
  {
   "cell_type": "markdown",
   "metadata": {
    "colab_type": "text",
    "id": "v_LX23K6HVAQ"
   },
   "source": [
    "## Часть первая\n",
    "\n",
    "\n",
    "Перед вами стоит задача – подготовить аналитический отчет для HR-отдела. На основании проведенной аналитики предполагается составить рекомендации для отдела кадров по стратегии набора персонала, а также по взаимодействию с уже имеющимися сотрудниками.\n",
    "<br><br> В базе данных лежит набор таблиц, которые содержат данные о сотрудниках вымышленной компании.\n",
    "Сделайте обзор штата сотрудников компании. Составьте набор предметов исследования, а затем проверьте их на данных. Вся аналитика должна быть выполена с помощью SQL. Впоследствии данные можно визуализировать, однако финальные датафреймы для графиков также должны быть подготовлены с помощью SQL. <br><br>\n",
    "\n",
    "Примеры гипотез:\n",
    "1. Есть зависимость между `perfomance score` и тем, под чьим руководством работает сотрудник.\n",
    "2. Есть зависимость между продолжительностью работы в компании и семейным положением сотрудника.\n",
    "2. Есть зависимость между продолжительностью работы в компании и возрастом сотрудника.\n",
    "\n",
    "<br><br>\n",
    "Параметры для подключения следующие: хост – `dsstudents.skillbox.ru`, порт – `5432`, имя базы данных – `human_resources`, пользователь – `readonly`, пароль – `6hajV34RTQfmxhS`. Таблицы, доступные для анализа, – `hr_dataset`, `production_staff`, `recruting_costs`, `salary_grid`."
   ]
  },
  {
   "cell_type": "markdown",
   "metadata": {},
   "source": [
    "## Содержание\n",
    "\n",
    "### [1. Описание штата сотрудников](#Описание-штата-сотрудников)\n",
    "- [Таблицы в базе данных](#Таблицы-в-базе-данных)\n",
    "- [Поля таблицы hr_dataset](#Поля-таблицы-hr_dataset)\n",
    "- [Поля таблицы production_staff](#Поля-таблицы-production_staff)\n",
    "- [Поля таблицы recruiting_costs](#Поля-таблицы-recruiting_costs)\n",
    "- [Поля таблицы salary_grid](#Поля-таблицы-salary_grid)\n",
    "- [Количество сотрудников](#Количество-сотрудников)\n",
    "- [Количество сотрудников по отделам](#Количество-сотрудников-по-отделам)\n",
    "- [Средняя зарплата](#Средняя-зарплата)\n",
    "- [Средний возраст](#Средний-возраст)\n",
    "- [Средняя продолжительность работы](#Средняя-продолжительность-работы)\n",
    "- [Распределение по полу](#Распределение-по-полу)\n",
    "- [Семейное положение в разрезе полов](#Семейное-положение-в-разрезе-полов)\n",
    "\n",
    "### [2. Анализ производственного департамента](#Анализ-производственного-департамента)\n",
    "- [Обзор подразделения](#Обзор-подразделения)\n",
    "- [Влияние пола сотрудника на производительность](#Влияние-пола-сотрудника-на-производительность)\n",
    "- [Влияние семейного положения на производительность](#Влияние-семейного-положения-на-производительность)\n",
    "- [Влияние наличия гражданства на производительность](#Влияние-наличия-гражданства-на-производительность)\n",
    "- [Влияние расовой принадлежности на производительность](#Влияние-расовой-принадлежности-на-производительность)\n",
    "- [Влияние источника вакансии на производительность](#Влияние-источника-вакансии-на-производительность)\n",
    "- [Рекомендации по набору персонала](#Рекомендации-по-набору-персонала)\n",
    "- [Рекомендации по работе с текущим персоналом](#Рекомендации-по-работе-с-текущим-персоналом)\n",
    "\n",
    "### [3. Анализ расходов на подбор персонала](#Анализ-расходов-на-подбор-персонала)"
   ]
  },
  {
   "cell_type": "markdown",
   "metadata": {},
   "source": [
    "## Описание штата сотрудников"
   ]
  },
  {
   "cell_type": "markdown",
   "metadata": {},
   "source": [
    "### Таблицы в базе данных\n",
    "\n",
    "#### [Наверх к содержанию](#Содержание)"
   ]
  },
  {
   "cell_type": "code",
   "execution_count": 2,
   "metadata": {
    "colab": {},
    "colab_type": "code",
    "id": "7b1vJYVrHVAR"
   },
   "outputs": [
    {
     "name": "stdout",
     "output_type": "stream",
     "text": [
      "[('hr_dataset',), ('production_staff',), ('male',), ('female',), ('recruiting_costs',), ('salary_grid',), ('show_functions',), ('share_employee_source',)]\n"
     ]
    }
   ],
   "source": [
    "#Посмотрм, какие есть таблицы в базе данных\n",
    "\n",
    "import psycopg2\n",
    "import pandas as pd\n",
    "import numpy as np\n",
    "\n",
    "pg_connection = {\n",
    "    \"host\": \"dsstudents.skillbox.ru\",\n",
    "    \"port\": 5432,\n",
    "    \"dbname\": \"human_resources\",\n",
    "    \"user\": \"readonly\",\n",
    "    \"password\": \"6hajV34RTQfmxhS\"\n",
    "}\n",
    "conn = psycopg2.connect(**pg_connection)\n",
    "cursor = conn.cursor()\n",
    "\n",
    "sql_str = \"SELECT table_name FROM information_schema.tables WHERE table_schema='public';\"\n",
    "cursor.execute(sql_str)\n",
    "data_bases = cursor.fetchall()\n",
    "conn.commit()\n",
    "\n",
    "print(data_bases)"
   ]
  },
  {
   "cell_type": "markdown",
   "metadata": {},
   "source": [
    "### Поля таблицы hr_dataset\n",
    "#### [Наверх к содержанию](#Содержание)"
   ]
  },
  {
   "cell_type": "code",
   "execution_count": 3,
   "metadata": {},
   "outputs": [
    {
     "name": "stdout",
     "output_type": "stream",
     "text": [
      "[('id',), ('Employee Name',), ('Employee Number',), ('marriedid',), ('maritalstatusid',), ('genderid',), ('empstatus_id',), ('deptid',), ('perf_scoreid',), ('age',), ('Pay Rate',), ('state',), ('zip',), ('dob',), ('sex',), ('maritaldesc',), ('citizendesc',), ('Hispanic/Latino',), ('racedesc',), ('Date of Hire',), ('Days Employed',), ('Date of Termination',), ('Reason For Term',), ('Employment Status',), ('department',), ('position',), ('Manager Name',), ('Employee Source',), ('Performance Score',)]\n"
     ]
    }
   ],
   "source": [
    "pg_connection = {\n",
    "    \"host\": \"dsstudents.skillbox.ru\",\n",
    "    \"port\": 5432,\n",
    "    \"dbname\": \"human_resources\",\n",
    "    \"user\": \"readonly\",\n",
    "    \"password\": \"6hajV34RTQfmxhS\"\n",
    "}\n",
    "conn = psycopg2.connect(**pg_connection)\n",
    "cursor = conn.cursor()\n",
    "\n",
    "sql_str = \"select column_name from information_schema.columns where table_schema = 'public' and table_name='hr_dataset';\"\n",
    "cursor.execute(sql_str)\n",
    "hr_dataset = cursor.fetchall()\n",
    "conn.commit()\n",
    "\n",
    "print(hr_dataset)"
   ]
  },
  {
   "cell_type": "markdown",
   "metadata": {},
   "source": [
    "### Поля таблицы production_staff\n",
    "#### [Наверх к содержанию](#Содержание)"
   ]
  },
  {
   "cell_type": "code",
   "execution_count": 4,
   "metadata": {},
   "outputs": [
    {
     "name": "stdout",
     "output_type": "stream",
     "text": [
      "[('id',), ('Employee Name',), ('Race Desc',), ('Date of Hire',), ('TermDate',), ('Reason for Term',), ('Employment Status',), ('Department',), ('Position',), ('Pay',), ('Manager Name',), ('Performance Score',), ('Abutments/Hour Wk 1',), ('Abutments/Hour Wk 2',), ('Daily Error Rate',), ('90-day Complaints',)]\n"
     ]
    }
   ],
   "source": [
    "pg_connection = {\n",
    "    \"host\": \"dsstudents.skillbox.ru\",\n",
    "    \"port\": 5432,\n",
    "    \"dbname\": \"human_resources\",\n",
    "    \"user\": \"readonly\",\n",
    "    \"password\": \"6hajV34RTQfmxhS\"\n",
    "}\n",
    "conn = psycopg2.connect(**pg_connection)\n",
    "cursor = conn.cursor()\n",
    "\n",
    "sql_str = \"select column_name from information_schema.columns where table_schema = 'public' and table_name='production_staff';\"\n",
    "cursor.execute(sql_str)\n",
    "# data_bases = [i for i in cursor.fetchall()]\n",
    "production_staff = cursor.fetchall()\n",
    "conn.commit()\n",
    "\n",
    "print(production_staff)"
   ]
  },
  {
   "cell_type": "markdown",
   "metadata": {},
   "source": [
    "### Поля таблицы recruiting_costs\n",
    "#### [Наверх к содержанию](#Содержание)"
   ]
  },
  {
   "cell_type": "code",
   "execution_count": 5,
   "metadata": {},
   "outputs": [
    {
     "name": "stdout",
     "output_type": "stream",
     "text": [
      "[('id',), ('Employment Source',), ('January ',), ('February',), ('March',), ('April',), ('May',), ('June',), ('July',), ('August',), ('September',), ('October',), ('November',), ('December',), ('Total',)]\n"
     ]
    }
   ],
   "source": [
    "pg_connection = {\n",
    "    \"host\": \"dsstudents.skillbox.ru\",\n",
    "    \"port\": 5432,\n",
    "    \"dbname\": \"human_resources\",\n",
    "    \"user\": \"readonly\",\n",
    "    \"password\": \"6hajV34RTQfmxhS\"\n",
    "}\n",
    "conn = psycopg2.connect(**pg_connection)\n",
    "cursor = conn.cursor()\n",
    "\n",
    "sql_str = \"select column_name from information_schema.columns where table_schema = 'public' and table_name='recruiting_costs';\"\n",
    "cursor.execute(sql_str)\n",
    "# data_bases = [i for i in cursor.fetchall()]\n",
    "recruiting_costs = cursor.fetchall()\n",
    "conn.commit()\n",
    "\n",
    "print(recruiting_costs)"
   ]
  },
  {
   "cell_type": "markdown",
   "metadata": {},
   "source": [
    "### Поля таблицы salary_grid\n",
    "#### [Наверх к содержанию](#Содержание)"
   ]
  },
  {
   "cell_type": "code",
   "execution_count": 6,
   "metadata": {},
   "outputs": [
    {
     "name": "stdout",
     "output_type": "stream",
     "text": [
      "[('id',), ('Position',), ('Salary Min',), ('Salary Mid',), ('Salary Max',), ('Hourly Min',), ('Hourly Mid',), ('Hourly Max',)]\n"
     ]
    }
   ],
   "source": [
    "pg_connection = {\n",
    "    \"host\": \"dsstudents.skillbox.ru\",\n",
    "    \"port\": 5432,\n",
    "    \"dbname\": \"human_resources\",\n",
    "    \"user\": \"readonly\",\n",
    "    \"password\": \"6hajV34RTQfmxhS\"\n",
    "}\n",
    "conn = psycopg2.connect(**pg_connection)\n",
    "cursor = conn.cursor()\n",
    "\n",
    "sql_str = \"select column_name from information_schema.columns where table_schema = 'public' and table_name='salary_grid';\"\n",
    "cursor.execute(sql_str)\n",
    "# data_bases = [i for i in cursor.fetchall()]\n",
    "salary_grid = cursor.fetchall()\n",
    "conn.commit()\n",
    "\n",
    "print(salary_grid)"
   ]
  },
  {
   "cell_type": "markdown",
   "metadata": {},
   "source": [
    "### Количество сотрудников\n",
    "#### [Наверх к содержанию](#Содержание)"
   ]
  },
  {
   "cell_type": "code",
   "execution_count": 68,
   "metadata": {},
   "outputs": [],
   "source": [
    "# Количество сотрудников\n",
    "pg_connection = {\n",
    "    \"host\": \"dsstudents.skillbox.ru\",\n",
    "    \"port\": 5432,\n",
    "    \"dbname\": \"human_resources\",\n",
    "    \"user\": \"readonly\",\n",
    "    \"password\": \"6hajV34RTQfmxhS\"\n",
    "}\n",
    "conn = psycopg2.connect(**pg_connection)\n",
    "cursor = conn.cursor()\n",
    "\n",
    "sql_str = \"\"\"(SELECT \"Employment Status\" AS emp_status, COUNT(\"Employee Name\") AS emp_name FROM hr_dataset GROUP BY emp_status) UNION ALL (SELECT 'TOTAL' AS \"Employee Name\", COUNT(\"Employee Name\") AS emp_name FROM hr_dataset) ORDER BY emp_name;\"\"\"\n",
    "cursor.execute(sql_str)\n",
    "# data_bases = [i for i in cursor.fetchall()]\n",
    "data_bases = [a for a in cursor.fetchall()]\n",
    "conn.commit()\n",
    "\n",
    "df_0 = pd.DataFrame(columns=['Employment Status', 'Count of Employees'])\n",
    "\n",
    "for item, raw in enumerate(data_bases):\n",
    "    df_0.loc[item] = raw\n",
    "\n",
    "df_0.index = df_0['Employment Status']\n",
    "del df_0['Employment Status']"
   ]
  },
  {
   "cell_type": "markdown",
   "metadata": {},
   "source": [
    "База данных (hr_dataset) содержит записи о 310 сотрудниках компании, из которых в статусе действующих (active, leave of absence, future start) 208 человек, уволенных – 102."
   ]
  },
  {
   "cell_type": "code",
   "execution_count": 8,
   "metadata": {},
   "outputs": [
    {
     "data": {
      "text/html": [
       "<div>\n",
       "<style scoped>\n",
       "    .dataframe tbody tr th:only-of-type {\n",
       "        vertical-align: middle;\n",
       "    }\n",
       "\n",
       "    .dataframe tbody tr th {\n",
       "        vertical-align: top;\n",
       "    }\n",
       "\n",
       "    .dataframe thead th {\n",
       "        text-align: right;\n",
       "    }\n",
       "</style>\n",
       "<table border=\"1\" class=\"dataframe\">\n",
       "  <thead>\n",
       "    <tr style=\"text-align: right;\">\n",
       "      <th></th>\n",
       "      <th>Count of Employees</th>\n",
       "    </tr>\n",
       "    <tr>\n",
       "      <th>Employment Status</th>\n",
       "      <th></th>\n",
       "    </tr>\n",
       "  </thead>\n",
       "  <tbody>\n",
       "    <tr>\n",
       "      <th>Future Start</th>\n",
       "      <td>11</td>\n",
       "    </tr>\n",
       "    <tr>\n",
       "      <th>Terminated for Cause</th>\n",
       "      <td>14</td>\n",
       "    </tr>\n",
       "    <tr>\n",
       "      <th>Leave of Absence</th>\n",
       "      <td>14</td>\n",
       "    </tr>\n",
       "    <tr>\n",
       "      <th>Voluntarily Terminated</th>\n",
       "      <td>88</td>\n",
       "    </tr>\n",
       "    <tr>\n",
       "      <th>Active</th>\n",
       "      <td>183</td>\n",
       "    </tr>\n",
       "    <tr>\n",
       "      <th>TOTAL</th>\n",
       "      <td>310</td>\n",
       "    </tr>\n",
       "  </tbody>\n",
       "</table>\n",
       "</div>"
      ],
      "text/plain": [
       "                       Count of Employees\n",
       "Employment Status                        \n",
       "Future Start                           11\n",
       "Terminated for Cause                   14\n",
       "Leave of Absence                       14\n",
       "Voluntarily Terminated                 88\n",
       "Active                                183\n",
       "TOTAL                                 310"
      ]
     },
     "execution_count": 8,
     "metadata": {},
     "output_type": "execute_result"
    },
    {
     "data": {
      "image/png": "[encoded data removed]",
      "text/plain": [
       "<Figure size 432x288 with 1 Axes>"
      ]
     },
     "metadata": {},
     "output_type": "display_data"
    }
   ],
   "source": [
    "df_0.iloc[:5]['Count of Employees'].plot(kind='pie')\n",
    "df_0"
   ]
  },
  {
   "cell_type": "markdown",
   "metadata": {},
   "source": [
    "### Количество сотрудников по отделам\n",
    "#### [Наверх к содержанию](#Содержание)"
   ]
  },
  {
   "cell_type": "code",
   "execution_count": 61,
   "metadata": {},
   "outputs": [],
   "source": [
    "# Количество сотрудников по отделам\n",
    "pg_connection = {\n",
    "    \"host\": \"dsstudents.skillbox.ru\",\n",
    "    \"port\": 5432,\n",
    "    \"dbname\": \"human_resources\",\n",
    "    \"user\": \"readonly\",\n",
    "    \"password\": \"6hajV34RTQfmxhS\"\n",
    "}\n",
    "conn = psycopg2.connect(**pg_connection)\n",
    "cursor = conn.cursor()\n",
    "\n",
    "sql_str = \"\"\"(SELECT department, COUNT(\"Employee Name\") AS count_employee FROM hr_dataset GROUP BY department) UNION ALL (SELECT 'TOTAL' AS \"Employee Name\", COUNT(\"Employee Name\") FROM hr_dataset) ORDER BY count_employee;\"\"\"\n",
    "cursor.execute(sql_str)\n",
    "# data_bases = [i for i in cursor.fetchall()]\n",
    "data_bases = [a for a in cursor.fetchall()]\n",
    "conn.commit()\n",
    "\n",
    "df_1 = pd.DataFrame(columns=['Departament', 'Count of Employees'])\n",
    "\n",
    "for item, raw in enumerate(data_bases):\n",
    "    df_1.loc[item] = raw\n",
    "\n",
    "df_1.index = df_1['Departament']\n",
    "del df_1['Departament']\n",
    "\n",
    "# Информация о руководителе\n",
    "pg_connection = {\n",
    "    \"host\": \"dsstudents.skillbox.ru\",\n",
    "    \"port\": 5432,\n",
    "    \"dbname\": \"human_resources\",\n",
    "    \"user\": \"readonly\",\n",
    "    \"password\": \"6hajV34RTQfmxhS\"\n",
    "}\n",
    "conn = psycopg2.connect(**pg_connection)\n",
    "cursor = conn.cursor()\n",
    "\n",
    "\n",
    "sql_str = \"\"\"SELECT * FROM hr_dataset WHERE department = 'Executive Office';\"\"\"\n",
    "cursor.execute(sql_str)\n",
    "\n",
    "data_bases = [a for a in cursor.fetchall()]\n",
    "conn.commit()\n",
    "\n",
    "df_2 = pd.DataFrame(columns=hr_dataset)\n",
    "\n",
    "for item, raw in enumerate(data_bases):\n",
    "    df_2.loc[item] = raw"
   ]
  },
  {
   "cell_type": "markdown",
   "metadata": {},
   "source": [
    "Штат сотрудников распределен по шести департаментам. Самый многочисленный - производственный, 208 человек."
   ]
  },
  {
   "cell_type": "code",
   "execution_count": 65,
   "metadata": {},
   "outputs": [
    {
     "data": {
      "text/html": [
       "<div>\n",
       "<style scoped>\n",
       "    .dataframe tbody tr th:only-of-type {\n",
       "        vertical-align: middle;\n",
       "    }\n",
       "\n",
       "    .dataframe tbody tr th {\n",
       "        vertical-align: top;\n",
       "    }\n",
       "\n",
       "    .dataframe thead th {\n",
       "        text-align: right;\n",
       "    }\n",
       "</style>\n",
       "<table border=\"1\" class=\"dataframe\">\n",
       "  <thead>\n",
       "    <tr style=\"text-align: right;\">\n",
       "      <th></th>\n",
       "      <th>Count of Employees</th>\n",
       "    </tr>\n",
       "    <tr>\n",
       "      <th>Departament</th>\n",
       "      <th></th>\n",
       "    </tr>\n",
       "  </thead>\n",
       "  <tbody>\n",
       "    <tr>\n",
       "      <th>Executive Office</th>\n",
       "      <td>1</td>\n",
       "    </tr>\n",
       "    <tr>\n",
       "      <th>Admin Offices</th>\n",
       "      <td>10</td>\n",
       "    </tr>\n",
       "    <tr>\n",
       "      <th>Software Engineering</th>\n",
       "      <td>10</td>\n",
       "    </tr>\n",
       "    <tr>\n",
       "      <th>Sales</th>\n",
       "      <td>31</td>\n",
       "    </tr>\n",
       "    <tr>\n",
       "      <th>IT/IS</th>\n",
       "      <td>50</td>\n",
       "    </tr>\n",
       "    <tr>\n",
       "      <th>Production</th>\n",
       "      <td>208</td>\n",
       "    </tr>\n",
       "    <tr>\n",
       "      <th>TOTAL</th>\n",
       "      <td>310</td>\n",
       "    </tr>\n",
       "  </tbody>\n",
       "</table>\n",
       "</div>"
      ],
      "text/plain": [
       "                     Count of Employees\n",
       "Departament                            \n",
       "Executive Office                      1\n",
       "Admin Offices                        10\n",
       "Software Engineering                 10\n",
       "Sales                                31\n",
       "IT/IS                                50\n",
       "Production                          208\n",
       "TOTAL                               310"
      ]
     },
     "execution_count": 65,
     "metadata": {},
     "output_type": "execute_result"
    },
    {
     "data": {
      "image/png": "[encoded data removed]",
      "text/plain": [
       "<Figure size 432x288 with 1 Axes>"
      ]
     },
     "metadata": {},
     "output_type": "display_data"
    }
   ],
   "source": [
    "df_1[:6]['Count of Employees'].plot(kind='pie')\n",
    "df_1"
   ]
  },
  {
   "cell_type": "markdown",
   "metadata": {},
   "source": [
    "Меньше всего сотрудников в руководящем составе. Знакомтесь, Джанет Кинг - президент и СЕО компании с окладом 80, 63 летняя латиноамериканка, гражданин США, замужем."
   ]
  },
  {
   "cell_type": "code",
   "execution_count": 11,
   "metadata": {},
   "outputs": [
    {
     "data": {
      "text/html": [
       "<div>\n",
       "<style scoped>\n",
       "    .dataframe tbody tr th:only-of-type {\n",
       "        vertical-align: middle;\n",
       "    }\n",
       "\n",
       "    .dataframe tbody tr th {\n",
       "        vertical-align: top;\n",
       "    }\n",
       "\n",
       "    .dataframe thead th {\n",
       "        text-align: right;\n",
       "    }\n",
       "</style>\n",
       "<table border=\"1\" class=\"dataframe\">\n",
       "  <thead>\n",
       "    <tr style=\"text-align: right;\">\n",
       "      <th></th>\n",
       "      <th>0</th>\n",
       "    </tr>\n",
       "  </thead>\n",
       "  <tbody>\n",
       "    <tr>\n",
       "      <th>(Employee Name,)</th>\n",
       "      <td>King, Janet</td>\n",
       "    </tr>\n",
       "    <tr>\n",
       "      <th>(age,)</th>\n",
       "      <td>63</td>\n",
       "    </tr>\n",
       "    <tr>\n",
       "      <th>(Pay Rate,)</th>\n",
       "      <td>80</td>\n",
       "    </tr>\n",
       "    <tr>\n",
       "      <th>(state,)</th>\n",
       "      <td>MA</td>\n",
       "    </tr>\n",
       "    <tr>\n",
       "      <th>(sex,)</th>\n",
       "      <td>Female</td>\n",
       "    </tr>\n",
       "    <tr>\n",
       "      <th>(maritaldesc,)</th>\n",
       "      <td>Married</td>\n",
       "    </tr>\n",
       "    <tr>\n",
       "      <th>(citizendesc,)</th>\n",
       "      <td>US Citizen</td>\n",
       "    </tr>\n",
       "    <tr>\n",
       "      <th>(Hispanic/Latino,)</th>\n",
       "      <td>Yes</td>\n",
       "    </tr>\n",
       "    <tr>\n",
       "      <th>(position,)</th>\n",
       "      <td>President &amp; CEO</td>\n",
       "    </tr>\n",
       "  </tbody>\n",
       "</table>\n",
       "</div>"
      ],
      "text/plain": [
       "                                  0\n",
       "(Employee Name,)        King, Janet\n",
       "(age,)                           63\n",
       "(Pay Rate,)                      80\n",
       "(state,)                         MA\n",
       "(sex,)                       Female\n",
       "(maritaldesc,)              Married\n",
       "(citizendesc,)           US Citizen\n",
       "(Hispanic/Latino,)              Yes\n",
       "(position,)         President & CEO"
      ]
     },
     "execution_count": 11,
     "metadata": {},
     "output_type": "execute_result"
    }
   ],
   "source": [
    "df_2.transpose().iloc[pd.np.r_[1:2,9:12, 14:18, 25:26]]"
   ]
  },
  {
   "cell_type": "markdown",
   "metadata": {},
   "source": [
    "### Средняя зарплата\n",
    "#### [Наверх к содержанию](#Содержание)"
   ]
  },
  {
   "cell_type": "code",
   "execution_count": 12,
   "metadata": {},
   "outputs": [
    {
     "name": "stdout",
     "output_type": "stream",
     "text": [
      "Средняя зарплата в компании  (Decimal('31'),)\n"
     ]
    }
   ],
   "source": [
    "# Средняя зарплата\n",
    "pg_connection = {\n",
    "    \"host\": \"dsstudents.skillbox.ru\",\n",
    "    \"port\": 5432,\n",
    "    \"dbname\": \"human_resources\",\n",
    "    \"user\": \"readonly\",\n",
    "    \"password\": \"6hajV34RTQfmxhS\"\n",
    "}\n",
    "conn = psycopg2.connect(**pg_connection)\n",
    "cursor = conn.cursor()\n",
    "\n",
    "sql_str = 'SELECT round(CAST(AVG(\"Pay Rate\") AS dec(12,2)),0) AS avg_pay_rate FROM hr_dataset;'\n",
    "cursor.execute(sql_str)\n",
    "# data_bases = [i for i in cursor.fetchall()]\n",
    "avg_pay_rate = [a for a in cursor.fetchall()]\n",
    "conn.commit()\n",
    "\n",
    "print('Средняя зарплата в компании ', avg_pay_rate[0])\n",
    "\n",
    "# Средняя зарплата по отделам\n",
    "pg_connection = {\n",
    "    \"host\": \"dsstudents.skillbox.ru\",\n",
    "    \"port\": 5432,\n",
    "    \"dbname\": \"human_resources\",\n",
    "    \"user\": \"readonly\",\n",
    "    \"password\": \"6hajV34RTQfmxhS\"\n",
    "}\n",
    "conn = psycopg2.connect(**pg_connection)\n",
    "cursor = conn.cursor()\n",
    "\n",
    "sql_str = 'SELECT department, round(CAST(AVG(\"Pay Rate\") AS dec(12,6)),0) AS avg_pay_rate FROM hr_dataset GROUP BY department ORDER BY avg_pay_rate DESC;'\n",
    "cursor.execute(sql_str)\n",
    "\n",
    "data_bases = [a for a in cursor.fetchall()]\n",
    "conn.commit()\n",
    "\n",
    "df_3 = pd.DataFrame(columns=['Departament', 'AVG pay rate'])\n",
    "\n",
    "for item, raw in enumerate(data_bases):\n",
    "    df_3.loc[item] = raw\n",
    "\n",
    "df_3.index = df_3['Departament']\n",
    "del df_3['Departament']"
   ]
  },
  {
   "cell_type": "markdown",
   "metadata": {},
   "source": [
    "В целом в компании средний оклад - 31. Наибольшее значение показателя принадлежит, что вполне ожидаемо, руководителю (80) и основному зарабатывающему подразделению - отделу продаж (56). Меньше всех получают сотрудники производственного отдела - 23."
   ]
  },
  {
   "cell_type": "code",
   "execution_count": 13,
   "metadata": {},
   "outputs": [
    {
     "data": {
      "text/html": [
       "<div>\n",
       "<style scoped>\n",
       "    .dataframe tbody tr th:only-of-type {\n",
       "        vertical-align: middle;\n",
       "    }\n",
       "\n",
       "    .dataframe tbody tr th {\n",
       "        vertical-align: top;\n",
       "    }\n",
       "\n",
       "    .dataframe thead th {\n",
       "        text-align: right;\n",
       "    }\n",
       "</style>\n",
       "<table border=\"1\" class=\"dataframe\">\n",
       "  <thead>\n",
       "    <tr style=\"text-align: right;\">\n",
       "      <th></th>\n",
       "      <th>AVG pay rate</th>\n",
       "    </tr>\n",
       "    <tr>\n",
       "      <th>Departament</th>\n",
       "      <th></th>\n",
       "    </tr>\n",
       "  </thead>\n",
       "  <tbody>\n",
       "    <tr>\n",
       "      <th>Executive Office</th>\n",
       "      <td>80</td>\n",
       "    </tr>\n",
       "    <tr>\n",
       "      <th>Sales</th>\n",
       "      <td>56</td>\n",
       "    </tr>\n",
       "    <tr>\n",
       "      <th>Software Engineering</th>\n",
       "      <td>49</td>\n",
       "    </tr>\n",
       "    <tr>\n",
       "      <th>IT/IS</th>\n",
       "      <td>46</td>\n",
       "    </tr>\n",
       "    <tr>\n",
       "      <th>Admin Offices</th>\n",
       "      <td>32</td>\n",
       "    </tr>\n",
       "    <tr>\n",
       "      <th>Production</th>\n",
       "      <td>23</td>\n",
       "    </tr>\n",
       "  </tbody>\n",
       "</table>\n",
       "</div>"
      ],
      "text/plain": [
       "                     AVG pay rate\n",
       "Departament                      \n",
       "Executive Office               80\n",
       "Sales                          56\n",
       "Software Engineering           49\n",
       "IT/IS                          46\n",
       "Admin Offices                  32\n",
       "Production                     23"
      ]
     },
     "execution_count": 13,
     "metadata": {},
     "output_type": "execute_result"
    },
    {
     "data": {
      "image/png": "[encoded data removed]",
      "text/plain": [
       "<Figure size 432x288 with 1 Axes>"
      ]
     },
     "metadata": {
      "needs_background": "light"
     },
     "output_type": "display_data"
    }
   ],
   "source": [
    "df_3['AVG pay rate'].apply(lambda x: int(x)).plot(kind='bar')\n",
    "df_3"
   ]
  },
  {
   "cell_type": "markdown",
   "metadata": {},
   "source": [
    "### Средний возраст\n",
    "#### [Наверх к содержанию](#Содержание)"
   ]
  },
  {
   "cell_type": "code",
   "execution_count": 14,
   "metadata": {},
   "outputs": [
    {
     "name": "stdout",
     "output_type": "stream",
     "text": [
      "[(Decimal('39'),)]\n"
     ]
    }
   ],
   "source": [
    "# Средний возраст\n",
    "pg_connection = {\n",
    "    \"host\": \"dsstudents.skillbox.ru\",\n",
    "    \"port\": 5432,\n",
    "    \"dbname\": \"human_resources\",\n",
    "    \"user\": \"readonly\",\n",
    "    \"password\": \"6hajV34RTQfmxhS\"\n",
    "}\n",
    "conn = psycopg2.connect(**pg_connection)\n",
    "cursor = conn.cursor()\n",
    "\n",
    "sql_str = 'SELECT round(AVG(\"age\"),0) AS avg_age FROM hr_dataset;'\n",
    "cursor.execute(sql_str)\n",
    "# data_bases = [i for i in cursor.fetchall()]\n",
    "avg_age = [a for a in cursor.fetchall()]\n",
    "conn.commit()\n",
    "\n",
    "print(avg_age)\n",
    "\n",
    "# Средний возраст по отделам\n",
    "pg_connection = {\n",
    "    \"host\": \"dsstudents.skillbox.ru\",\n",
    "    \"port\": 5432,\n",
    "    \"dbname\": \"human_resources\",\n",
    "    \"user\": \"readonly\",\n",
    "    \"password\": \"6hajV34RTQfmxhS\"\n",
    "}\n",
    "conn = psycopg2.connect(**pg_connection)\n",
    "cursor = conn.cursor()\n",
    "\n",
    "sql_str = 'SELECT department, round(AVG(\"age\"),0) AS avg_age FROM hr_dataset GROUP BY department ORDER BY avg_age DESC;'\n",
    "cursor.execute(sql_str)\n",
    "# data_bases = [i for i in cursor.fetchall()]\n",
    "data_bases = [a for a in cursor.fetchall()]\n",
    "conn.commit()\n",
    "\n",
    "df_4 = pd.DataFrame(columns=['Departament', 'Avg age'])\n",
    "\n",
    "for item, raw in enumerate(data_bases):\n",
    "    df_4.loc[item] = raw\n",
    "\n",
    "df_4.index = df_4['Departament']\n",
    "del df_4['Departament']"
   ]
  },
  {
   "cell_type": "markdown",
   "metadata": {},
   "source": [
    "Средний возраст сотрудников в компании - 39 лет. В разрезе отделов - меньше всех лет сотрудникам из Admin Offices.\n",
    "По остальным отделам (кроме руководства, где всего один человек) возраст 36-39 лет."
   ]
  },
  {
   "cell_type": "code",
   "execution_count": 15,
   "metadata": {},
   "outputs": [
    {
     "data": {
      "text/html": [
       "<div>\n",
       "<style scoped>\n",
       "    .dataframe tbody tr th:only-of-type {\n",
       "        vertical-align: middle;\n",
       "    }\n",
       "\n",
       "    .dataframe tbody tr th {\n",
       "        vertical-align: top;\n",
       "    }\n",
       "\n",
       "    .dataframe thead th {\n",
       "        text-align: right;\n",
       "    }\n",
       "</style>\n",
       "<table border=\"1\" class=\"dataframe\">\n",
       "  <thead>\n",
       "    <tr style=\"text-align: right;\">\n",
       "      <th></th>\n",
       "      <th>Avg age</th>\n",
       "    </tr>\n",
       "    <tr>\n",
       "      <th>Departament</th>\n",
       "      <th></th>\n",
       "    </tr>\n",
       "  </thead>\n",
       "  <tbody>\n",
       "    <tr>\n",
       "      <th>Executive Office</th>\n",
       "      <td>63</td>\n",
       "    </tr>\n",
       "    <tr>\n",
       "      <th>Production</th>\n",
       "      <td>39</td>\n",
       "    </tr>\n",
       "    <tr>\n",
       "      <th>Sales</th>\n",
       "      <td>39</td>\n",
       "    </tr>\n",
       "    <tr>\n",
       "      <th>IT/IS</th>\n",
       "      <td>38</td>\n",
       "    </tr>\n",
       "    <tr>\n",
       "      <th>Software Engineering</th>\n",
       "      <td>36</td>\n",
       "    </tr>\n",
       "    <tr>\n",
       "      <th>Admin Offices</th>\n",
       "      <td>32</td>\n",
       "    </tr>\n",
       "  </tbody>\n",
       "</table>\n",
       "</div>"
      ],
      "text/plain": [
       "                     Avg age\n",
       "Departament                 \n",
       "Executive Office          63\n",
       "Production                39\n",
       "Sales                     39\n",
       "IT/IS                     38\n",
       "Software Engineering      36\n",
       "Admin Offices             32"
      ]
     },
     "execution_count": 15,
     "metadata": {},
     "output_type": "execute_result"
    },
    {
     "data": {
      "image/png": "[encoded data removed]",
      "text/plain": [
       "<Figure size 432x288 with 1 Axes>"
      ]
     },
     "metadata": {
      "needs_background": "light"
     },
     "output_type": "display_data"
    }
   ],
   "source": [
    "df_4['Avg age'].apply(lambda x: int(x)).plot(kind='bar')\n",
    "df_4"
   ]
  },
  {
   "cell_type": "markdown",
   "metadata": {},
   "source": [
    "### Средняя продолжительность работы\n",
    "#### [Наверх к содержанию](#Содержание)"
   ]
  },
  {
   "cell_type": "code",
   "execution_count": 16,
   "metadata": {},
   "outputs": [
    {
     "name": "stdout",
     "output_type": "stream",
     "text": [
      "[(Decimal('1296'),)]\n"
     ]
    }
   ],
   "source": [
    "# Средний период работы\n",
    "pg_connection = {\n",
    "    \"host\": \"dsstudents.skillbox.ru\",\n",
    "    \"port\": 5432,\n",
    "    \"dbname\": \"human_resources\",\n",
    "    \"user\": \"readonly\",\n",
    "    \"password\": \"6hajV34RTQfmxhS\"\n",
    "}\n",
    "conn = psycopg2.connect(**pg_connection)\n",
    "cursor = conn.cursor()\n",
    "\n",
    "sql_str = 'SELECT round(AVG(\"Days Employed\"),0) AS avg_day_empl FROM hr_dataset;'\n",
    "cursor.execute(sql_str)\n",
    "# data_bases = [i for i in cursor.fetchall()]\n",
    "avg_day_empl = [a for a in cursor.fetchall()]\n",
    "conn.commit()\n",
    "\n",
    "print(avg_day_empl)\n",
    "\n",
    "# Средний период работы по отделам\n",
    "pg_connection = {\n",
    "    \"host\": \"dsstudents.skillbox.ru\",\n",
    "    \"port\": 5432,\n",
    "    \"dbname\": \"human_resources\",\n",
    "    \"user\": \"readonly\",\n",
    "    \"password\": \"6hajV34RTQfmxhS\"\n",
    "}\n",
    "conn = psycopg2.connect(**pg_connection)\n",
    "cursor = conn.cursor()\n",
    "\n",
    "sql_str = 'SELECT department, round(AVG(\"Days Employed\"),0) AS avg_day_empl FROM hr_dataset GROUP BY department ORDER BY avg_day_empl DESC;'\n",
    "cursor.execute(sql_str)\n",
    "# data_bases = [i for i in cursor.fetchall()]\n",
    "data_bases = [a for a in cursor.fetchall()]\n",
    "conn.commit()\n",
    "\n",
    "df_5 = pd.DataFrame(columns=['Departament', 'Avg_day_empl'])\n",
    "\n",
    "for item, raw in enumerate(data_bases):\n",
    "    df_5.loc[item] = raw\n",
    "\n",
    "df_5.index = df_5['Departament']\n",
    "del df_5['Departament']"
   ]
  },
  {
   "cell_type": "markdown",
   "metadata": {},
   "source": [
    "В среднем по компании каждый сотрудник отработал 1296 дней. Больше всего (кроме руководителя) работают в отделе продаж (другими словами, в главном \"зарабатывающем\" подразделении наименьшая \"текучка\", а это хорошо),\n",
    "меньше  всего - IT/IS"
   ]
  },
  {
   "cell_type": "code",
   "execution_count": 17,
   "metadata": {},
   "outputs": [
    {
     "data": {
      "text/html": [
       "<div>\n",
       "<style scoped>\n",
       "    .dataframe tbody tr th:only-of-type {\n",
       "        vertical-align: middle;\n",
       "    }\n",
       "\n",
       "    .dataframe tbody tr th {\n",
       "        vertical-align: top;\n",
       "    }\n",
       "\n",
       "    .dataframe thead th {\n",
       "        text-align: right;\n",
       "    }\n",
       "</style>\n",
       "<table border=\"1\" class=\"dataframe\">\n",
       "  <thead>\n",
       "    <tr style=\"text-align: right;\">\n",
       "      <th></th>\n",
       "      <th>Avg_day_empl</th>\n",
       "    </tr>\n",
       "    <tr>\n",
       "      <th>Departament</th>\n",
       "      <th></th>\n",
       "    </tr>\n",
       "  </thead>\n",
       "  <tbody>\n",
       "    <tr>\n",
       "      <th>Executive Office</th>\n",
       "      <td>1973</td>\n",
       "    </tr>\n",
       "    <tr>\n",
       "      <th>Sales</th>\n",
       "      <td>1622</td>\n",
       "    </tr>\n",
       "    <tr>\n",
       "      <th>Admin Offices</th>\n",
       "      <td>1421</td>\n",
       "    </tr>\n",
       "    <tr>\n",
       "      <th>Software Engineering</th>\n",
       "      <td>1418</td>\n",
       "    </tr>\n",
       "    <tr>\n",
       "      <th>Production</th>\n",
       "      <td>1308</td>\n",
       "    </tr>\n",
       "    <tr>\n",
       "      <th>IT/IS</th>\n",
       "      <td>982</td>\n",
       "    </tr>\n",
       "  </tbody>\n",
       "</table>\n",
       "</div>"
      ],
      "text/plain": [
       "                     Avg_day_empl\n",
       "Departament                      \n",
       "Executive Office             1973\n",
       "Sales                        1622\n",
       "Admin Offices                1421\n",
       "Software Engineering         1418\n",
       "Production                   1308\n",
       "IT/IS                         982"
      ]
     },
     "execution_count": 17,
     "metadata": {},
     "output_type": "execute_result"
    },
    {
     "data": {
      "image/png": "[encoded data removed]",
      "text/plain": [
       "<Figure size 432x288 with 1 Axes>"
      ]
     },
     "metadata": {
      "needs_background": "light"
     },
     "output_type": "display_data"
    }
   ],
   "source": [
    "df_5['Avg_day_empl'].apply(lambda x: int(x)).plot(kind='bar')\n",
    "df_5"
   ]
  },
  {
   "cell_type": "markdown",
   "metadata": {},
   "source": [
    "### Распределение по полу\n",
    "#### [Наверх к содержанию](#Содержание)"
   ]
  },
  {
   "cell_type": "code",
   "execution_count": 54,
   "metadata": {},
   "outputs": [],
   "source": [
    "# Распределение полов по отделам\n",
    "pg_connection = {\n",
    "    \"host\": \"dsstudents.skillbox.ru\",\n",
    "    \"port\": 5432,\n",
    "    \"dbname\": \"human_resources\",\n",
    "    \"user\": \"readonly\",\n",
    "    \"password\": \"6hajV34RTQfmxhS\"\n",
    "}\n",
    "conn = psycopg2.connect(**pg_connection)\n",
    "cursor = conn.cursor()\n",
    "\n",
    "sql_str1 = \"\"\"CREATE TEMP TABLE male AS SELECT department, COUNT(*) AS num_sex FROM hr_dataset  WHERE sex = 'Male' GROUP BY department ORDER BY department;\"\"\"\n",
    "cursor.execute(sql_str1)\n",
    "\n",
    "sql_str2 = \"\"\"CREATE TEMP TABLE female AS SELECT department, COUNT(*) AS num_sex FROM hr_dataset  WHERE sex = 'Female' GROUP BY department ORDER BY department;\"\"\"\n",
    "cursor.execute(sql_str2)\n",
    "\n",
    "sql_str3 = \"\"\"SELECT * FROM female JOIN male ON male.department = female.department;\"\"\"\n",
    "# sql_str3 = \"\"\"SELECT * FROM female;\"\"\"\n",
    "cursor.execute(sql_str3)\n",
    "\n",
    "data_bases = [a for a in cursor.fetchall()]\n",
    "\n",
    "conn.commit()\n",
    "\n",
    "df_6 = pd.DataFrame(columns=['Departament', 'Female', 'Male'])\n",
    "\n",
    "for item, raw in enumerate(data_bases):\n",
    "    df_6.loc[item] = [raw[0],raw[1],raw[3]]\n",
    "\n",
    "df_6.index = df_6['Departament']\n",
    "del df_6['Departament']"
   ]
  },
  {
   "cell_type": "markdown",
   "metadata": {},
   "source": [
    "Как видно из графика, в производственном подразделении женщин больше, чем мужчин в 1,5 раза. В остальных - разница не столь заметна."
   ]
  },
  {
   "cell_type": "code",
   "execution_count": 55,
   "metadata": {},
   "outputs": [
    {
     "data": {
      "text/html": [
       "<div>\n",
       "<style scoped>\n",
       "    .dataframe tbody tr th:only-of-type {\n",
       "        vertical-align: middle;\n",
       "    }\n",
       "\n",
       "    .dataframe tbody tr th {\n",
       "        vertical-align: top;\n",
       "    }\n",
       "\n",
       "    .dataframe thead th {\n",
       "        text-align: right;\n",
       "    }\n",
       "</style>\n",
       "<table border=\"1\" class=\"dataframe\">\n",
       "  <thead>\n",
       "    <tr style=\"text-align: right;\">\n",
       "      <th></th>\n",
       "      <th>Female</th>\n",
       "      <th>Male</th>\n",
       "    </tr>\n",
       "    <tr>\n",
       "      <th>Departament</th>\n",
       "      <th></th>\n",
       "      <th></th>\n",
       "    </tr>\n",
       "  </thead>\n",
       "  <tbody>\n",
       "    <tr>\n",
       "      <th>Admin Offices</th>\n",
       "      <td>6</td>\n",
       "      <td>4</td>\n",
       "    </tr>\n",
       "    <tr>\n",
       "      <th>IT/IS</th>\n",
       "      <td>22</td>\n",
       "      <td>28</td>\n",
       "    </tr>\n",
       "    <tr>\n",
       "      <th>Production</th>\n",
       "      <td>127</td>\n",
       "      <td>81</td>\n",
       "    </tr>\n",
       "    <tr>\n",
       "      <th>Sales</th>\n",
       "      <td>15</td>\n",
       "      <td>16</td>\n",
       "    </tr>\n",
       "    <tr>\n",
       "      <th>Software Engineering</th>\n",
       "      <td>6</td>\n",
       "      <td>4</td>\n",
       "    </tr>\n",
       "  </tbody>\n",
       "</table>\n",
       "</div>"
      ],
      "text/plain": [
       "                     Female Male\n",
       "Departament                     \n",
       "Admin Offices             6    4\n",
       "IT/IS                    22   28\n",
       "Production              127   81\n",
       "Sales                    15   16\n",
       "Software Engineering      6    4"
      ]
     },
     "execution_count": 55,
     "metadata": {},
     "output_type": "execute_result"
    },
    {
     "data": {
      "image/png": "[encoded data removed]",
      "text/plain": [
       "<Figure size 432x288 with 1 Axes>"
      ]
     },
     "metadata": {
      "needs_background": "light"
     },
     "output_type": "display_data"
    }
   ],
   "source": [
    "df_6.plot.bar()\n",
    "df_6"
   ]
  },
  {
   "cell_type": "markdown",
   "metadata": {},
   "source": [
    "### Семейное положение в разрезе полов\n",
    "#### [Наверх к содержанию](#Содержание)"
   ]
  },
  {
   "cell_type": "code",
   "execution_count": 95,
   "metadata": {},
   "outputs": [],
   "source": [
    "# Семейное положение\n",
    "pg_connection = {\n",
    "    \"host\": \"dsstudents.skillbox.ru\",\n",
    "    \"port\": 5432,\n",
    "    \"dbname\": \"human_resources\",\n",
    "    \"user\": \"readonly\",\n",
    "    \"password\": \"6hajV34RTQfmxhS\"\n",
    "}\n",
    "conn = psycopg2.connect(**pg_connection)\n",
    "cursor = conn.cursor()\n",
    "\n",
    "sql_str1 = \"\"\"CREATE TEMP TABLE male AS SELECT maritaldesc, COUNT('Employee Name') AS count FROM hr_dataset WHERE sex = 'Male' GROUP BY maritaldesc ORDER BY count DESC;\"\"\"\n",
    "cursor.execute(sql_str1) \n",
    "\n",
    "sql_str2 = \"\"\"CREATE TEMP TABLE female AS SELECT maritaldesc, COUNT('Employee Name') AS count FROM hr_dataset WHERE sex = 'Female' GROUP BY maritaldesc ORDER BY count DESC;\"\"\"\n",
    "cursor.execute(sql_str2) \n",
    "\n",
    "sql_str3 = \"\"\"SELECT * FROM female JOIN male ON male.maritaldesc = female.maritaldesc;\"\"\"\n",
    "cursor.execute(sql_str3) \n",
    "\n",
    "data_bases = [a for a in cursor.fetchall()]\n",
    "conn.commit()\n",
    "\n",
    "df_7 = pd.DataFrame(columns=['Maritaldesc', 'Male', 'Female'])\n",
    "\n",
    "for item, raw in enumerate(data_bases):\n",
    "    df_7.loc[item] = [raw[0],raw[1],raw[3]]\n",
    "\n",
    "df_7.index = df_7['Maritaldesc']\n",
    "del df_7['Maritaldesc']"
   ]
  },
  {
   "cell_type": "markdown",
   "metadata": {},
   "source": [
    "Как видно по графику, и среди одиноких, и среди женатых мужчин больше, чем женщин"
   ]
  },
  {
   "cell_type": "code",
   "execution_count": 96,
   "metadata": {},
   "outputs": [
    {
     "data": {
      "text/html": [
       "<div>\n",
       "<style scoped>\n",
       "    .dataframe tbody tr th:only-of-type {\n",
       "        vertical-align: middle;\n",
       "    }\n",
       "\n",
       "    .dataframe tbody tr th {\n",
       "        vertical-align: top;\n",
       "    }\n",
       "\n",
       "    .dataframe thead th {\n",
       "        text-align: right;\n",
       "    }\n",
       "</style>\n",
       "<table border=\"1\" class=\"dataframe\">\n",
       "  <thead>\n",
       "    <tr style=\"text-align: right;\">\n",
       "      <th></th>\n",
       "      <th>Male</th>\n",
       "      <th>Female</th>\n",
       "    </tr>\n",
       "    <tr>\n",
       "      <th>Maritaldesc</th>\n",
       "      <th></th>\n",
       "      <th></th>\n",
       "    </tr>\n",
       "  </thead>\n",
       "  <tbody>\n",
       "    <tr>\n",
       "      <th>Single</th>\n",
       "      <td>76</td>\n",
       "      <td>61</td>\n",
       "    </tr>\n",
       "    <tr>\n",
       "      <th>Married</th>\n",
       "      <td>72</td>\n",
       "      <td>51</td>\n",
       "    </tr>\n",
       "    <tr>\n",
       "      <th>Divorced</th>\n",
       "      <td>16</td>\n",
       "      <td>14</td>\n",
       "    </tr>\n",
       "    <tr>\n",
       "      <th>Separated</th>\n",
       "      <td>9</td>\n",
       "      <td>3</td>\n",
       "    </tr>\n",
       "    <tr>\n",
       "      <th>Widowed</th>\n",
       "      <td>4</td>\n",
       "      <td>4</td>\n",
       "    </tr>\n",
       "  </tbody>\n",
       "</table>\n",
       "</div>"
      ],
      "text/plain": [
       "            Male Female\n",
       "Maritaldesc            \n",
       "Single        76     61\n",
       "Married       72     51\n",
       "Divorced      16     14\n",
       "Separated      9      3\n",
       "Widowed        4      4"
      ]
     },
     "execution_count": 96,
     "metadata": {},
     "output_type": "execute_result"
    },
    {
     "data": {
      "image/png": "[encoded data removed]",
      "text/plain": [
       "<Figure size 432x288 with 1 Axes>"
      ]
     },
     "metadata": {
      "needs_background": "light"
     },
     "output_type": "display_data"
    }
   ],
   "source": [
    "df_7.plot.bar()\n",
    "df_7"
   ]
  },
  {
   "cell_type": "markdown",
   "metadata": {},
   "source": [
    "## Анализ производственного департамента\n",
    "\n",
    "### [Наверх к содержанию](#Содержание)"
   ]
  },
  {
   "cell_type": "markdown",
   "metadata": {},
   "source": [
    "### Обзор подразделения\n",
    "\n",
    "#### [Наверх к содержанию](#Содержание)"
   ]
  },
  {
   "cell_type": "code",
   "execution_count": 27,
   "metadata": {},
   "outputs": [
    {
     "data": {
      "text/plain": [
       "('Abutments/Hour Wk 1',)"
      ]
     },
     "execution_count": 27,
     "metadata": {},
     "output_type": "execute_result"
    }
   ],
   "source": [
    "# Количество сотрудников по статусам\n",
    "pg_connection = {\n",
    "    \"host\": \"dsstudents.skillbox.ru\",\n",
    "    \"port\": 5432,\n",
    "    \"dbname\": \"human_resources\",\n",
    "    \"user\": \"readonly\",\n",
    "    \"password\": \"6hajV34RTQfmxhS\"\n",
    "}\n",
    "conn = psycopg2.connect(**pg_connection)\n",
    "cursor = conn.cursor()\n",
    "\n",
    "sql_str = \"\"\"(SELECT \"Employment Status\" AS emp_status, COUNT(\"Employee Name\") AS emp_name FROM production_staff WHERE NOT \"Employment Status\" IS NULL GROUP BY emp_status) UNION ALL (SELECT 'TOTAL' AS \"Employee Name\", COUNT(\"Employee Name\") AS emp_name FROM production_staff WHERE NOT \"Employment Status\" IS NULL) ORDER BY emp_name;\"\"\"\n",
    "cursor.execute(sql_str)\n",
    "\n",
    "data_bases = [a for a in cursor.fetchall()]\n",
    "conn.commit()\n",
    "\n",
    "df_8 = pd.DataFrame(columns=['Employment Status', 'Count of Employees'])\n",
    "\n",
    "for item, raw in enumerate(data_bases):\n",
    "    df_8.loc[item] = raw\n",
    "\n",
    "df_8.index = df_8['Employment Status']\n",
    "del df_8['Employment Status']\n",
    "\n",
    "#Что производят\n",
    "production_staff[12]"
   ]
  },
  {
   "cell_type": "markdown",
   "metadata": {},
   "source": [
    "#### [Наверх к содержанию](#Содержание)\n",
    "\n",
    "Производственное подразделение компании занимается выпуском абатментов. База данных по подразделению содержит 209 сотрудников, из которых: 107 - работающие, в отпусках - 11, стажеры - 8, уволившиеся по собственному желанию - 75, уволившиеся по прочим причинам - 8."
   ]
  },
  {
   "cell_type": "code",
   "execution_count": 31,
   "metadata": {},
   "outputs": [
    {
     "data": {
      "text/html": [
       "<div>\n",
       "<style scoped>\n",
       "    .dataframe tbody tr th:only-of-type {\n",
       "        vertical-align: middle;\n",
       "    }\n",
       "\n",
       "    .dataframe tbody tr th {\n",
       "        vertical-align: top;\n",
       "    }\n",
       "\n",
       "    .dataframe thead th {\n",
       "        text-align: right;\n",
       "    }\n",
       "</style>\n",
       "<table border=\"1\" class=\"dataframe\">\n",
       "  <thead>\n",
       "    <tr style=\"text-align: right;\">\n",
       "      <th></th>\n",
       "      <th>Count of Employees</th>\n",
       "    </tr>\n",
       "    <tr>\n",
       "      <th>Employment Status</th>\n",
       "      <th></th>\n",
       "    </tr>\n",
       "  </thead>\n",
       "  <tbody>\n",
       "    <tr>\n",
       "      <th>Future Start</th>\n",
       "      <td>8</td>\n",
       "    </tr>\n",
       "    <tr>\n",
       "      <th>Terminated for Cause</th>\n",
       "      <td>8</td>\n",
       "    </tr>\n",
       "    <tr>\n",
       "      <th>Leave of Absence</th>\n",
       "      <td>11</td>\n",
       "    </tr>\n",
       "    <tr>\n",
       "      <th>Voluntarily Terminated</th>\n",
       "      <td>75</td>\n",
       "    </tr>\n",
       "    <tr>\n",
       "      <th>Active</th>\n",
       "      <td>107</td>\n",
       "    </tr>\n",
       "    <tr>\n",
       "      <th>TOTAL</th>\n",
       "      <td>209</td>\n",
       "    </tr>\n",
       "  </tbody>\n",
       "</table>\n",
       "</div>"
      ],
      "text/plain": [
       "                       Count of Employees\n",
       "Employment Status                        \n",
       "Future Start                            8\n",
       "Terminated for Cause                    8\n",
       "Leave of Absence                       11\n",
       "Voluntarily Terminated                 75\n",
       "Active                                107\n",
       "TOTAL                                 209"
      ]
     },
     "execution_count": 31,
     "metadata": {},
     "output_type": "execute_result"
    },
    {
     "data": {
      "image/png": "[encoded data removed]",
      "text/plain": [
       "<Figure size 432x288 with 1 Axes>"
      ]
     },
     "metadata": {},
     "output_type": "display_data"
    }
   ],
   "source": [
    "df_8.iloc[:5]['Count of Employees'].plot(kind='pie')\n",
    "df_8"
   ]
  },
  {
   "cell_type": "code",
   "execution_count": 96,
   "metadata": {},
   "outputs": [],
   "source": [
    "# Расы сотрудников\n",
    "pg_connection = {\n",
    "    \"host\": \"dsstudents.skillbox.ru\",\n",
    "    \"port\": 5432,\n",
    "    \"dbname\": \"human_resources\",\n",
    "    \"user\": \"readonly\",\n",
    "    \"password\": \"6hajV34RTQfmxhS\"\n",
    "}\n",
    "conn = psycopg2.connect(**pg_connection)\n",
    "cursor = conn.cursor()\n",
    "\n",
    "sql_str1 = \"\"\"CREATE TEMP TABLE percent_race AS SELECT \"Race Desc\" AS race_desc, COUNT(\"Race Desc\") AS count_race FROM production_staff WHERE NOT \"Race Desc\" IS NULL GROUP BY race_desc ORDER BY count_race DESC;\"\"\"\n",
    "cursor.execute(sql_str1)\n",
    "\n",
    "sql_str2 = \"\"\"SELECT race_desc, ROUND(100*count_race/SUM(count_race) OVER()) AS percent FROM percent_race;\"\"\"\n",
    "cursor.execute(sql_str2)\n",
    "\n",
    "data_bases = [a for a in cursor.fetchall()]\n",
    "conn.commit()\n",
    "\n",
    "df_9 = pd.DataFrame(columns=['race_desc', '%'])\n",
    "\n",
    "for item, raw in enumerate(data_bases):\n",
    "    df_9.loc[item] = raw\n",
    "\n",
    "df_9.index = df_9['race_desc']\n",
    "del df_9['race_desc']"
   ]
  },
  {
   "cell_type": "markdown",
   "metadata": {},
   "source": [
    "#### [Наверх к содержанию](#Содержание)\n",
    "\n",
    "Больше всего - 67% -  работников из базы данных - \"белой\" расы, меньше всего - 1% - латиноамериканцев."
   ]
  },
  {
   "cell_type": "code",
   "execution_count": 107,
   "metadata": {},
   "outputs": [
    {
     "data": {
      "text/html": [
       "<div>\n",
       "<style scoped>\n",
       "    .dataframe tbody tr th:only-of-type {\n",
       "        vertical-align: middle;\n",
       "    }\n",
       "\n",
       "    .dataframe tbody tr th {\n",
       "        vertical-align: top;\n",
       "    }\n",
       "\n",
       "    .dataframe thead th {\n",
       "        text-align: right;\n",
       "    }\n",
       "</style>\n",
       "<table border=\"1\" class=\"dataframe\">\n",
       "  <thead>\n",
       "    <tr style=\"text-align: right;\">\n",
       "      <th></th>\n",
       "      <th>%</th>\n",
       "    </tr>\n",
       "    <tr>\n",
       "      <th>race_desc</th>\n",
       "      <th></th>\n",
       "    </tr>\n",
       "  </thead>\n",
       "  <tbody>\n",
       "    <tr>\n",
       "      <th>White</th>\n",
       "      <td>67</td>\n",
       "    </tr>\n",
       "    <tr>\n",
       "      <th>Black or African American</th>\n",
       "      <td>15</td>\n",
       "    </tr>\n",
       "    <tr>\n",
       "      <th>Asian</th>\n",
       "      <td>11</td>\n",
       "    </tr>\n",
       "    <tr>\n",
       "      <th>Two or more races</th>\n",
       "      <td>5</td>\n",
       "    </tr>\n",
       "    <tr>\n",
       "      <th>American Indian or Alaska Native</th>\n",
       "      <td>1</td>\n",
       "    </tr>\n",
       "    <tr>\n",
       "      <th>Hispanic</th>\n",
       "      <td>1</td>\n",
       "    </tr>\n",
       "  </tbody>\n",
       "</table>\n",
       "</div>"
      ],
      "text/plain": [
       "                                   %\n",
       "race_desc                           \n",
       "White                             67\n",
       "Black or African American         15\n",
       "Asian                             11\n",
       "Two or more races                  5\n",
       "American Indian or Alaska Native   1\n",
       "Hispanic                           1"
      ]
     },
     "execution_count": 107,
     "metadata": {},
     "output_type": "execute_result"
    },
    {
     "data": {
      "image/png": "[encoded data removed]",
      "text/plain": [
       "<Figure size 432x288 with 1 Axes>"
      ]
     },
     "metadata": {},
     "output_type": "display_data"
    }
   ],
   "source": [
    "df_9['%'].apply(lambda x: int(x)).plot(kind='pie')\n",
    "df_9"
   ]
  },
  {
   "cell_type": "code",
   "execution_count": 153,
   "metadata": {},
   "outputs": [],
   "source": [
    "# Должности со средним окладом\n",
    "pg_connection = {\n",
    "    \"host\": \"dsstudents.skillbox.ru\",\n",
    "    \"port\": 5432,\n",
    "    \"dbname\": \"human_resources\",\n",
    "    \"user\": \"readonly\",\n",
    "    \"password\": \"6hajV34RTQfmxhS\"\n",
    "}\n",
    "conn = psycopg2.connect(**pg_connection)\n",
    "cursor = conn.cursor()\n",
    "#WHERE NOT Position IS NULL\n",
    "sql_str1 = \"\"\"SELECT \"Position\", SUM(\"Pay\")/COUNT(\"Pay\") AS YY FROM production_staff WHERE NOT \"Position\" IS NULL GROUP BY \"Position\";\"\"\"\n",
    "cursor.execute(sql_str1)\n",
    "\n",
    "\n",
    "data_bases = [a for a in cursor.fetchall()]\n",
    "conn.commit()\n",
    "\n",
    "df_10 = pd.DataFrame(columns=['Position', 'Avg Pay'])\n",
    "\n",
    "for item, raw in enumerate(data_bases):\n",
    "    df_10.loc[item] = raw\n",
    "\n",
    "df_10.index = df_10['Position']\n",
    "del df_10['Position']"
   ]
  },
  {
   "cell_type": "markdown",
   "metadata": {},
   "source": [
    "#### [Наверх к содержанию](#Содержание)\n",
    "\n",
    "Сотрудники производственного отдела занимают следующие должности со средним окладом:"
   ]
  },
  {
   "cell_type": "code",
   "execution_count": 154,
   "metadata": {},
   "outputs": [
    {
     "data": {
      "text/html": [
       "<div>\n",
       "<style scoped>\n",
       "    .dataframe tbody tr th:only-of-type {\n",
       "        vertical-align: middle;\n",
       "    }\n",
       "\n",
       "    .dataframe tbody tr th {\n",
       "        vertical-align: top;\n",
       "    }\n",
       "\n",
       "    .dataframe thead th {\n",
       "        text-align: right;\n",
       "    }\n",
       "</style>\n",
       "<table border=\"1\" class=\"dataframe\">\n",
       "  <thead>\n",
       "    <tr style=\"text-align: right;\">\n",
       "      <th></th>\n",
       "      <th>Avg Pay</th>\n",
       "    </tr>\n",
       "    <tr>\n",
       "      <th>Position</th>\n",
       "      <th></th>\n",
       "    </tr>\n",
       "  </thead>\n",
       "  <tbody>\n",
       "    <tr>\n",
       "      <th>Production Manager</th>\n",
       "      <td>$49.60</td>\n",
       "    </tr>\n",
       "    <tr>\n",
       "      <th>Production Technician II</th>\n",
       "      <td>$25.43</td>\n",
       "    </tr>\n",
       "    <tr>\n",
       "      <th>Production Technician I</th>\n",
       "      <td>$19.13</td>\n",
       "    </tr>\n",
       "  </tbody>\n",
       "</table>\n",
       "</div>"
      ],
      "text/plain": [
       "                         Avg Pay\n",
       "Position                        \n",
       "Production Manager        $49.60\n",
       "Production Technician II  $25.43\n",
       "Production Technician I   $19.13"
      ]
     },
     "execution_count": 154,
     "metadata": {},
     "output_type": "execute_result"
    },
    {
     "data": {
      "image/png": "[encoded data removed]",
      "text/plain": [
       "<Figure size 432x288 with 1 Axes>"
      ]
     },
     "metadata": {
      "needs_background": "light"
     },
     "output_type": "display_data"
    }
   ],
   "source": [
    "df_10['Avg Pay'].apply(lambda x: float(x[1:])).plot.bar()\n",
    "df_10"
   ]
  },
  {
   "cell_type": "markdown",
   "metadata": {},
   "source": [
    "### Влияние пола сотрудника на производительность\n",
    "\n",
    "#### [Наверх к содержанию](#Содержание)"
   ]
  },
  {
   "cell_type": "code",
   "execution_count": 105,
   "metadata": {},
   "outputs": [],
   "source": [
    "#Эффективность сотрудников производственного отдела будем оценивать по двум показателям:\n",
    "# производство абатментов в час;\n",
    "# зарплата (часовая) в расчете на один производимый абатмент\n",
    "\n",
    "pg_connection = {\n",
    "    \"host\": \"dsstudents.skillbox.ru\",\n",
    "    \"port\": 5432,\n",
    "    \"dbname\": \"human_resources\",\n",
    "    \"user\": \"readonly\",\n",
    "    \"password\": \"6hajV34RTQfmxhS\"\n",
    "}\n",
    "conn = psycopg2.connect(**pg_connection)\n",
    "cursor = conn.cursor()\n",
    "\n",
    "# sql_str1 = \"\"\"CREATE TEMP TABLE prod AS SELECT \"Employee Name\" AS name, \"Abutments/Hour Wk 1\" AS Abutments_Hour_Wk_1, \"Abutments/Hour Wk 2\" AS Abutments_Hour_Wk_2, \"Daily Error Rate\" AS day_error, \"90-day Complaints\" AS _90_day_Complaints FROM production_staff;\"\"\"\n",
    "# cursor.execute(sql_str1)\n",
    "\n",
    "# sql_str2 = \"\"\"CREATE TEMP TABLE hr AS SELECT \"Employee Name\" AS name, age, \"Pay Rate\" AS pay_rate, state, sex, maritaldesc, citizendesc, racedesc, \"Date of Hire\" AS date_hire, \"Days Employed\" AS days_empl, \"Date of Termination\" AS date_termination, \"Reason For Term\" AS reason_term, \"Employment Status\" AS empl_status, department, position, \"Manager Name\" AS manager, \"Employee Source\" AS empl_source, \"Performance Score\" AS score FROM hr_dataset;\"\"\"\n",
    "# cursor.execute(sql_str2)\n",
    "\n",
    "# sql_str3 = \"\"\"SELECT * FROM prod JOIN hr ON prod.name = hr.name;\"\"\"\n",
    "# cursor.execute(sql_str3)\n",
    "\n",
    "#Из таблицы production_staff выберем строки с должностями, именами, показателями производства абатментов за 1 и 2 недели\n",
    "#также добавим столбец со средним значением абатментов за две недели по каждому сотруднику\n",
    "#также добавим столбец с зарплатой в расчете на один производимый абатмент\n",
    "#выборка включает в себя только сотрудников с должностями Production Technician (I и II)\n",
    "#Результат сохраним во временную таблицу\n",
    "sql_str1 = \"\"\"CREATE TEMP TABLE prod AS SELECT \"Position\",\"Employee Name\" AS name, \"Abutments/Hour Wk 1\" AS Abutments_Hour_Wk_1, \"Abutments/Hour Wk 2\" AS Abutments_Hour_Wk_2, (\"Abutments/Hour Wk 1\" + \"Abutments/Hour Wk 2\")/2 AS avg_abut_hour, \"Pay\", (\"Pay\"/((\"Abutments/Hour Wk 1\" + \"Abutments/Hour Wk 2\")/2)) AS pay_abut FROM production_staff WHERE \"Abutments/Hour Wk 1\" <> 0 AND (\"Position\" = 'Production Technician I' OR \"Position\" = 'Production Technician II');\"\"\"\n",
    "cursor.execute(sql_str1)\n",
    "\n",
    "#Из таблицы hr_dataset выберем данные по полу сотрудников. Результат - во временную таблицу\n",
    "sql_str2 = \"\"\"CREATE TEMP TABLE hr AS SELECT \"Employee Name\" AS name1, sex FROM hr_dataset;\"\"\"\n",
    "cursor.execute(sql_str2)\n",
    "\n",
    "#Заджойним временные таблицы по именам. Результат - также во временную таблицу\n",
    "sql_str3 = \"\"\"CREATE TEMP TABLE join_tab AS SELECT * FROM prod JOIN hr ON prod.name = hr.name1;\"\"\"\n",
    "cursor.execute(sql_str3)\n",
    "\n",
    "#Из последней таблицы получим средние значения производства абатментов, средней зарплаты на абатмент в разрезе пола сотрудников\n",
    "sql_str4 = \"\"\"SELECT sex, ROUND(AVG(avg_abut_hour),2) AS mean_abut_hour, ROUND(AVG(pay_abut::numeric),2) FROM join_tab GROUP BY sex;\"\"\"\n",
    "cursor.execute(sql_str4)\n",
    "\n",
    "data_bases = [a for a in cursor.fetchall()]\n",
    "conn.commit()\n",
    "\n",
    "df_11 = pd.DataFrame(columns=['Sex', 'Mean_Abutments_Hour, pieces', 'Salary_for_one_abutment, $'])\n",
    "\n",
    "for item, raw in enumerate(data_bases):\n",
    "    df_11.loc[item] = raw\n",
    "df_11.index = df_11['Sex']\n",
    "del df_11['Sex']"
   ]
  },
  {
   "cell_type": "markdown",
   "metadata": {},
   "source": [
    "#### [Наверх к содержанию](#Содержание)\n",
    "\n",
    "Хотя на графике отличия еле уловимы, по цифровым данным видно, что мужчины производят в среднем больше продукции, а также \"расход\" зарплаты на единицу продукции для предприятия меньше, чем то же для женщин."
   ]
  },
  {
   "cell_type": "code",
   "execution_count": 106,
   "metadata": {},
   "outputs": [
    {
     "data": {
      "text/html": [
       "<div>\n",
       "<style scoped>\n",
       "    .dataframe tbody tr th:only-of-type {\n",
       "        vertical-align: middle;\n",
       "    }\n",
       "\n",
       "    .dataframe tbody tr th {\n",
       "        vertical-align: top;\n",
       "    }\n",
       "\n",
       "    .dataframe thead th {\n",
       "        text-align: right;\n",
       "    }\n",
       "</style>\n",
       "<table border=\"1\" class=\"dataframe\">\n",
       "  <thead>\n",
       "    <tr style=\"text-align: right;\">\n",
       "      <th></th>\n",
       "      <th>Mean_Abutments_Hour, pieces</th>\n",
       "      <th>Salary_for_one_abutment, $</th>\n",
       "    </tr>\n",
       "    <tr>\n",
       "      <th>Sex</th>\n",
       "      <th></th>\n",
       "      <th></th>\n",
       "    </tr>\n",
       "  </thead>\n",
       "  <tbody>\n",
       "    <tr>\n",
       "      <th>Female</th>\n",
       "      <td>10.21</td>\n",
       "      <td>2.53</td>\n",
       "    </tr>\n",
       "    <tr>\n",
       "      <th>Male</th>\n",
       "      <td>10.32</td>\n",
       "      <td>2.38</td>\n",
       "    </tr>\n",
       "  </tbody>\n",
       "</table>\n",
       "</div>"
      ],
      "text/plain": [
       "       Mean_Abutments_Hour, pieces Salary_for_one_abutment, $\n",
       "Sex                                                          \n",
       "Female                       10.21                       2.53\n",
       "Male                         10.32                       2.38"
      ]
     },
     "execution_count": 106,
     "metadata": {},
     "output_type": "execute_result"
    },
    {
     "data": {
      "image/png": "[encoded data removed]",
      "text/plain": [
       "<Figure size 432x288 with 1 Axes>"
      ]
     },
     "metadata": {
      "needs_background": "light"
     },
     "output_type": "display_data"
    }
   ],
   "source": [
    "df_11.apply(pd.to_numeric).plot.bar().legend(bbox_to_anchor=(1.2, 0.5))\n",
    "df_11"
   ]
  },
  {
   "cell_type": "markdown",
   "metadata": {},
   "source": [
    "### Влияние семейного положения на производительность\n",
    "\n",
    "#### [Наверх к содержанию](#Содержание)"
   ]
  },
  {
   "cell_type": "code",
   "execution_count": 107,
   "metadata": {},
   "outputs": [],
   "source": [
    "pg_connection = {\n",
    "    \"host\": \"dsstudents.skillbox.ru\",\n",
    "    \"port\": 5432,\n",
    "    \"dbname\": \"human_resources\",\n",
    "    \"user\": \"readonly\",\n",
    "    \"password\": \"6hajV34RTQfmxhS\"\n",
    "}\n",
    "conn = psycopg2.connect(**pg_connection)\n",
    "cursor = conn.cursor()\n",
    "\n",
    "#Из таблицы production_staff выберем строки с должностями, именами, показателями производства абатментов за 1 и 2 недели\n",
    "#также добавим столбец со средним значением абатментов за две недели по каждому сотруднику\n",
    "#также добавим столбец с зарплатой в расчете на один производимый абатмент\n",
    "#выборка включает в себя только сотрудников с должностями Production Technician (I и II)\n",
    "#Результат сохраним во временную таблицу\n",
    "sql_str1 = \"\"\"CREATE TEMP TABLE prod AS SELECT \"Position\",\"Employee Name\" AS name, \"Abutments/Hour Wk 1\" AS Abutments_Hour_Wk_1, \"Abutments/Hour Wk 2\" AS Abutments_Hour_Wk_2, (\"Abutments/Hour Wk 1\" + \"Abutments/Hour Wk 2\")/2 AS avg_abut_hour, \"Pay\", (\"Pay\"/((\"Abutments/Hour Wk 1\" + \"Abutments/Hour Wk 2\")/2)) AS pay_abut FROM production_staff WHERE \"Abutments/Hour Wk 1\" <> 0 AND (\"Position\" = 'Production Technician I' OR \"Position\" = 'Production Technician II');\"\"\"\n",
    "cursor.execute(sql_str1)\n",
    "\n",
    "#Из таблицы hr_dataset выберем данные по семейному положению сотрудников. Результат - во временную таблицу\n",
    "sql_str2 = \"\"\"CREATE TEMP TABLE hr AS SELECT \"Employee Name\" AS name1, maritaldesc FROM hr_dataset;\"\"\"\n",
    "cursor.execute(sql_str2)\n",
    "\n",
    "#Заджойним временные таблицы по именам. Результат - также во временную таблицу\n",
    "sql_str3 = \"\"\"CREATE TEMP TABLE join_tab AS SELECT * FROM prod JOIN hr ON prod.name = hr.name1;\"\"\"\n",
    "cursor.execute(sql_str3)\n",
    "\n",
    "#Из последней таблицы получим средние значения производства абатментов, средней зарплаты на абатмент в разрезе семейного положения сотрудников\n",
    "sql_str4 = \"\"\"SELECT maritaldesc, ROUND(AVG(avg_abut_hour),2) AS mean_abut_hour, ROUND(AVG(pay_abut::numeric),2) FROM join_tab GROUP BY maritaldesc ORDER BY mean_abut_hour;\"\"\"\n",
    "cursor.execute(sql_str4)\n",
    "\n",
    "data_bases = [a for a in cursor.fetchall()]\n",
    "conn.commit()\n",
    "\n",
    "df_12 = pd.DataFrame(columns=['Maritaldesc', 'Mean_Abutments_Hour, pieces', 'Salary_for_one_abutment, $'])\n",
    "\n",
    "for item, raw in enumerate(data_bases):\n",
    "    df_12.loc[item] = raw\n",
    "df_12.index = df_12['Maritaldesc']\n",
    "del df_12['Maritaldesc']"
   ]
  },
  {
   "cell_type": "markdown",
   "metadata": {},
   "source": [
    "#### [Наверх к содержанию](#Содержание)\n",
    "\n",
    "Визуально видно, что разведенные сотрудники производят в среднем больше продукции, а также \"расход\" зарплаты этой категории на единицу продукции для предприятия меньше, чем то же для остальных категорий по семейному положению."
   ]
  },
  {
   "cell_type": "code",
   "execution_count": 108,
   "metadata": {},
   "outputs": [
    {
     "data": {
      "text/html": [
       "<div>\n",
       "<style scoped>\n",
       "    .dataframe tbody tr th:only-of-type {\n",
       "        vertical-align: middle;\n",
       "    }\n",
       "\n",
       "    .dataframe tbody tr th {\n",
       "        vertical-align: top;\n",
       "    }\n",
       "\n",
       "    .dataframe thead th {\n",
       "        text-align: right;\n",
       "    }\n",
       "</style>\n",
       "<table border=\"1\" class=\"dataframe\">\n",
       "  <thead>\n",
       "    <tr style=\"text-align: right;\">\n",
       "      <th></th>\n",
       "      <th>Mean_Abutments_Hour, pieces</th>\n",
       "      <th>Salary_for_one_abutment, $</th>\n",
       "    </tr>\n",
       "    <tr>\n",
       "      <th>Maritaldesc</th>\n",
       "      <th></th>\n",
       "      <th></th>\n",
       "    </tr>\n",
       "  </thead>\n",
       "  <tbody>\n",
       "    <tr>\n",
       "      <th>Married</th>\n",
       "      <td>9.70</td>\n",
       "      <td>2.78</td>\n",
       "    </tr>\n",
       "    <tr>\n",
       "      <th>Widowed</th>\n",
       "      <td>10.00</td>\n",
       "      <td>2.20</td>\n",
       "    </tr>\n",
       "    <tr>\n",
       "      <th>Single</th>\n",
       "      <td>10.37</td>\n",
       "      <td>2.36</td>\n",
       "    </tr>\n",
       "    <tr>\n",
       "      <th>Separated</th>\n",
       "      <td>11.11</td>\n",
       "      <td>2.53</td>\n",
       "    </tr>\n",
       "    <tr>\n",
       "      <th>Divorced</th>\n",
       "      <td>11.43</td>\n",
       "      <td>1.92</td>\n",
       "    </tr>\n",
       "  </tbody>\n",
       "</table>\n",
       "</div>"
      ],
      "text/plain": [
       "            Mean_Abutments_Hour, pieces Salary_for_one_abutment, $\n",
       "Maritaldesc                                                       \n",
       "Married                            9.70                       2.78\n",
       "Widowed                           10.00                       2.20\n",
       "Single                            10.37                       2.36\n",
       "Separated                         11.11                       2.53\n",
       "Divorced                          11.43                       1.92"
      ]
     },
     "execution_count": 108,
     "metadata": {},
     "output_type": "execute_result"
    },
    {
     "data": {
      "image/png": "[encoded data removed]",
      "text/plain": [
       "<Figure size 432x288 with 1 Axes>"
      ]
     },
     "metadata": {
      "needs_background": "light"
     },
     "output_type": "display_data"
    }
   ],
   "source": [
    "df_12.apply(pd.to_numeric).plot.bar().legend(bbox_to_anchor=(1.2, 0.5))\n",
    "df_12"
   ]
  },
  {
   "cell_type": "markdown",
   "metadata": {},
   "source": [
    "### Влияние наличия гражданства на производительность\n",
    "\n",
    "#### [Наверх к содержанию](#Содержание)"
   ]
  },
  {
   "cell_type": "code",
   "execution_count": 109,
   "metadata": {},
   "outputs": [],
   "source": [
    "pg_connection = {\n",
    "    \"host\": \"dsstudents.skillbox.ru\",\n",
    "    \"port\": 5432,\n",
    "    \"dbname\": \"human_resources\",\n",
    "    \"user\": \"readonly\",\n",
    "    \"password\": \"6hajV34RTQfmxhS\"\n",
    "}\n",
    "conn = psycopg2.connect(**pg_connection)\n",
    "cursor = conn.cursor()\n",
    "\n",
    "#Из таблицы production_staff выберем строки с должностями, именами, показателями производства абатментов за 1 и 2 недели\n",
    "#также добавим столбец со средним значением абатментов за две недели по каждому сотруднику\n",
    "#также добавим столбец с зарплатой в расчете на один производимый абатмент\n",
    "#выборка включает в себя только сотрудников с должностями Production Technician (I и II)\n",
    "#Результат сохраним во временную таблицу\n",
    "sql_str1 = \"\"\"CREATE TEMP TABLE prod AS SELECT \"Position\",\"Employee Name\" AS name, \"Abutments/Hour Wk 1\" AS Abutments_Hour_Wk_1, \"Abutments/Hour Wk 2\" AS Abutments_Hour_Wk_2, (\"Abutments/Hour Wk 1\" + \"Abutments/Hour Wk 2\")/2 AS avg_abut_hour, \"Pay\", (\"Pay\"/((\"Abutments/Hour Wk 1\" + \"Abutments/Hour Wk 2\")/2)) AS pay_abut FROM production_staff WHERE \"Abutments/Hour Wk 1\" <> 0 AND (\"Position\" = 'Production Technician I' OR \"Position\" = 'Production Technician II');\"\"\"\n",
    "cursor.execute(sql_str1)\n",
    "\n",
    "#Из таблицы hr_dataset выберем данные по гражданству сотрудников. Результат - во временную таблицу\n",
    "sql_str2 = \"\"\"CREATE TEMP TABLE hr AS SELECT \"Employee Name\" AS name1, citizendesc FROM hr_dataset;\"\"\"\n",
    "cursor.execute(sql_str2)\n",
    "\n",
    "#Заджойним временные таблицы по именам. Результат - также во временную таблицу\n",
    "sql_str3 = \"\"\"CREATE TEMP TABLE join_tab AS SELECT * FROM prod JOIN hr ON prod.name = hr.name1;\"\"\"\n",
    "cursor.execute(sql_str3)\n",
    "\n",
    "#Из последней таблицы получим средние значения производства абатментов, средней зарплаты на абатмент в разрезе гражданства сотрудников\n",
    "sql_str4 = \"\"\"SELECT citizendesc, ROUND(AVG(avg_abut_hour),2) AS mean_abut_hour, ROUND(AVG(pay_abut::numeric),2) FROM join_tab GROUP BY citizendesc ORDER BY mean_abut_hour;\"\"\"\n",
    "cursor.execute(sql_str4)\n",
    "\n",
    "data_bases = [a for a in cursor.fetchall()]\n",
    "conn.commit()\n",
    "\n",
    "df_13 = pd.DataFrame(columns=['Citizendesc', 'Mean_Abutments_Hour, pieces', 'Salary_for_one_abutment, $'])\n",
    "\n",
    "for item, raw in enumerate(data_bases):\n",
    "    df_13.loc[item] = raw\n",
    "df_13.index = df_13['Citizendesc']\n",
    "del df_13['Citizendesc']"
   ]
  },
  {
   "cell_type": "markdown",
   "metadata": {},
   "source": [
    "#### [Наверх к содержанию](#Содержание)\n",
    "\n",
    "Визуально видно, что сотрудники без гражданства производят в среднем меньше продукции, а также \"расход\" зарплаты этой категории на единицу продукции для предприятия больше, чем то же для остальных категорий по наличию гражданства."
   ]
  },
  {
   "cell_type": "code",
   "execution_count": 110,
   "metadata": {},
   "outputs": [
    {
     "data": {
      "text/html": [
       "<div>\n",
       "<style scoped>\n",
       "    .dataframe tbody tr th:only-of-type {\n",
       "        vertical-align: middle;\n",
       "    }\n",
       "\n",
       "    .dataframe tbody tr th {\n",
       "        vertical-align: top;\n",
       "    }\n",
       "\n",
       "    .dataframe thead th {\n",
       "        text-align: right;\n",
       "    }\n",
       "</style>\n",
       "<table border=\"1\" class=\"dataframe\">\n",
       "  <thead>\n",
       "    <tr style=\"text-align: right;\">\n",
       "      <th></th>\n",
       "      <th>Mean_Abutments_Hour, pieces</th>\n",
       "      <th>Salary_for_one_abutment, $</th>\n",
       "    </tr>\n",
       "    <tr>\n",
       "      <th>Citizendesc</th>\n",
       "      <th></th>\n",
       "      <th></th>\n",
       "    </tr>\n",
       "  </thead>\n",
       "  <tbody>\n",
       "    <tr>\n",
       "      <th>Non-Citizen</th>\n",
       "      <td>8.00</td>\n",
       "      <td>3.26</td>\n",
       "    </tr>\n",
       "    <tr>\n",
       "      <th>US Citizen</th>\n",
       "      <td>10.28</td>\n",
       "      <td>2.46</td>\n",
       "    </tr>\n",
       "    <tr>\n",
       "      <th>Eligible NonCitizen</th>\n",
       "      <td>10.43</td>\n",
       "      <td>2.36</td>\n",
       "    </tr>\n",
       "  </tbody>\n",
       "</table>\n",
       "</div>"
      ],
      "text/plain": [
       "                    Mean_Abutments_Hour, pieces Salary_for_one_abutment, $\n",
       "Citizendesc                                                               \n",
       "Non-Citizen                                8.00                       3.26\n",
       "US Citizen                                10.28                       2.46\n",
       "Eligible NonCitizen                       10.43                       2.36"
      ]
     },
     "execution_count": 110,
     "metadata": {},
     "output_type": "execute_result"
    },
    {
     "data": {
      "image/png": "[encoded data removed]",
      "text/plain": [
       "<Figure size 432x288 with 1 Axes>"
      ]
     },
     "metadata": {
      "needs_background": "light"
     },
     "output_type": "display_data"
    }
   ],
   "source": [
    "df_13.apply(pd.to_numeric).plot.bar().legend(bbox_to_anchor=(1.2, 0.5))\n",
    "df_13"
   ]
  },
  {
   "cell_type": "markdown",
   "metadata": {},
   "source": [
    "### Влияние расовой принадлежности на производительность\n",
    "\n",
    "#### [Наверх к содержанию](#Содержание)"
   ]
  },
  {
   "cell_type": "code",
   "execution_count": 111,
   "metadata": {},
   "outputs": [],
   "source": [
    "pg_connection = {\n",
    "    \"host\": \"dsstudents.skillbox.ru\",\n",
    "    \"port\": 5432,\n",
    "    \"dbname\": \"human_resources\",\n",
    "    \"user\": \"readonly\",\n",
    "    \"password\": \"6hajV34RTQfmxhS\"\n",
    "}\n",
    "conn = psycopg2.connect(**pg_connection)\n",
    "cursor = conn.cursor()\n",
    "\n",
    "#Из таблицы production_staff выберем строки с должностями, именами, показателями производства абатментов за 1 и 2 недели\n",
    "#также добавим столбец со средним значением абатментов за две недели по каждому сотруднику\n",
    "#также добавим столбец с зарплатой в расчете на один производимый абатмент\n",
    "#выборка включает в себя только сотрудников с должностями Production Technician (I и II)\n",
    "#Результат сохраним во временную таблицу\n",
    "sql_str1 = \"\"\"CREATE TEMP TABLE prod AS SELECT \"Position\",\"Employee Name\" AS name, \"Abutments/Hour Wk 1\" AS Abutments_Hour_Wk_1, \"Abutments/Hour Wk 2\" AS Abutments_Hour_Wk_2, (\"Abutments/Hour Wk 1\" + \"Abutments/Hour Wk 2\")/2 AS avg_abut_hour, \"Pay\", (\"Pay\"/((\"Abutments/Hour Wk 1\" + \"Abutments/Hour Wk 2\")/2)) AS pay_abut FROM production_staff WHERE \"Abutments/Hour Wk 1\" <> 0 AND (\"Position\" = 'Production Technician I' OR \"Position\" = 'Production Technician II');\"\"\"\n",
    "cursor.execute(sql_str1)\n",
    "\n",
    "#Из таблицы hr_dataset выберем данные по расовой принадледности сотрудников. Результат - во временную таблицу\n",
    "sql_str2 = \"\"\"CREATE TEMP TABLE hr AS SELECT \"Employee Name\" AS name1, racedesc FROM hr_dataset;\"\"\"\n",
    "cursor.execute(sql_str2)\n",
    "\n",
    "#Заджойним временные таблицы по именам. Результат - также во временную таблицу\n",
    "sql_str3 = \"\"\"CREATE TEMP TABLE join_tab AS SELECT * FROM prod JOIN hr ON prod.name = hr.name1;\"\"\"\n",
    "cursor.execute(sql_str3)\n",
    "\n",
    "#Из последней таблицы получим средние значения производства абатментов, средней зарплаты на абатмент в разрезе гражданства сотрудников\n",
    "sql_str4 = \"\"\"SELECT racedesc, ROUND(AVG(avg_abut_hour),2) AS mean_abut_hour, ROUND(AVG(pay_abut::numeric),2) FROM join_tab GROUP BY racedesc ORDER BY mean_abut_hour;\"\"\"\n",
    "cursor.execute(sql_str4)\n",
    "\n",
    "data_bases = [a for a in cursor.fetchall()]\n",
    "conn.commit()\n",
    "\n",
    "df_14 = pd.DataFrame(columns=['Racedesc', 'Mean_Abutments_Hour, pieces', 'Salary_for_one_abutment, $'])\n",
    "\n",
    "for item, raw in enumerate(data_bases):\n",
    "    df_14.loc[item] = raw\n",
    "df_14.index = df_14['Racedesc']\n",
    "del df_14['Racedesc']"
   ]
  },
  {
   "cell_type": "markdown",
   "metadata": {},
   "source": [
    "#### [Наверх к содержанию](#Содержание)\n",
    "\n",
    "Визуально видно, что коренные жители Америки или Аляски производят в среднем больше продукции, а также \"расход\" зарплаты этой категории на единицу продукции для предприятия меньше, чем то же для остальных категорий."
   ]
  },
  {
   "cell_type": "code",
   "execution_count": 112,
   "metadata": {},
   "outputs": [
    {
     "data": {
      "text/html": [
       "<div>\n",
       "<style scoped>\n",
       "    .dataframe tbody tr th:only-of-type {\n",
       "        vertical-align: middle;\n",
       "    }\n",
       "\n",
       "    .dataframe tbody tr th {\n",
       "        vertical-align: top;\n",
       "    }\n",
       "\n",
       "    .dataframe thead th {\n",
       "        text-align: right;\n",
       "    }\n",
       "</style>\n",
       "<table border=\"1\" class=\"dataframe\">\n",
       "  <thead>\n",
       "    <tr style=\"text-align: right;\">\n",
       "      <th></th>\n",
       "      <th>Mean_Abutments_Hour, pieces</th>\n",
       "      <th>Salary_for_one_abutment, $</th>\n",
       "    </tr>\n",
       "    <tr>\n",
       "      <th>Racedesc</th>\n",
       "      <th></th>\n",
       "      <th></th>\n",
       "    </tr>\n",
       "  </thead>\n",
       "  <tbody>\n",
       "    <tr>\n",
       "      <th>Hispanic</th>\n",
       "      <td>8.50</td>\n",
       "      <td>2.60</td>\n",
       "    </tr>\n",
       "    <tr>\n",
       "      <th>Black or African American</th>\n",
       "      <td>9.21</td>\n",
       "      <td>2.98</td>\n",
       "    </tr>\n",
       "    <tr>\n",
       "      <th>Two or more races</th>\n",
       "      <td>9.60</td>\n",
       "      <td>2.63</td>\n",
       "    </tr>\n",
       "    <tr>\n",
       "      <th>White</th>\n",
       "      <td>10.40</td>\n",
       "      <td>2.41</td>\n",
       "    </tr>\n",
       "    <tr>\n",
       "      <th>Asian</th>\n",
       "      <td>10.55</td>\n",
       "      <td>2.19</td>\n",
       "    </tr>\n",
       "    <tr>\n",
       "      <th>American Indian or Alaska Native</th>\n",
       "      <td>15.33</td>\n",
       "      <td>1.50</td>\n",
       "    </tr>\n",
       "  </tbody>\n",
       "</table>\n",
       "</div>"
      ],
      "text/plain": [
       "                                 Mean_Abutments_Hour, pieces  \\\n",
       "Racedesc                                                       \n",
       "Hispanic                                                8.50   \n",
       "Black or African American                               9.21   \n",
       "Two or more races                                       9.60   \n",
       "White                                                  10.40   \n",
       "Asian                                                  10.55   \n",
       "American Indian or Alaska Native                       15.33   \n",
       "\n",
       "                                 Salary_for_one_abutment, $  \n",
       "Racedesc                                                     \n",
       "Hispanic                                               2.60  \n",
       "Black or African American                              2.98  \n",
       "Two or more races                                      2.63  \n",
       "White                                                  2.41  \n",
       "Asian                                                  2.19  \n",
       "American Indian or Alaska Native                       1.50  "
      ]
     },
     "execution_count": 112,
     "metadata": {},
     "output_type": "execute_result"
    },
    {
     "data": {
      "image/png": "[encoded data removed]",
      "text/plain": [
       "<Figure size 432x288 with 1 Axes>"
      ]
     },
     "metadata": {
      "needs_background": "light"
     },
     "output_type": "display_data"
    }
   ],
   "source": [
    "df_14.apply(pd.to_numeric).plot.bar().legend(bbox_to_anchor=(1.2, 0.5))\n",
    "df_14"
   ]
  },
  {
   "cell_type": "markdown",
   "metadata": {},
   "source": [
    "### Влияние источника вакансии на производительность\n",
    "\n",
    "#### [Наверх к содержанию](#Содержание)"
   ]
  },
  {
   "cell_type": "code",
   "execution_count": 113,
   "metadata": {},
   "outputs": [],
   "source": [
    "pg_connection = {\n",
    "    \"host\": \"dsstudents.skillbox.ru\",\n",
    "    \"port\": 5432,\n",
    "    \"dbname\": \"human_resources\",\n",
    "    \"user\": \"readonly\",\n",
    "    \"password\": \"6hajV34RTQfmxhS\"\n",
    "}\n",
    "conn = psycopg2.connect(**pg_connection)\n",
    "cursor = conn.cursor()\n",
    "\n",
    "#Из таблицы production_staff выберем строки с должностями, именами, показателями производства абатментов за 1 и 2 недели\n",
    "#также добавим столбец со средним значением абатментов за две недели по каждому сотруднику\n",
    "#также добавим столбец с зарплатой в расчете на один производимый абатмент\n",
    "#выборка включает в себя только сотрудников с должностями Production Technician (I и II)\n",
    "#Результат сохраним во временную таблицу\n",
    "sql_str1 = \"\"\"CREATE TEMP TABLE prod AS SELECT \"Position\",\"Employee Name\" AS name, \"Abutments/Hour Wk 1\" AS Abutments_Hour_Wk_1, \"Abutments/Hour Wk 2\" AS Abutments_Hour_Wk_2, (\"Abutments/Hour Wk 1\" + \"Abutments/Hour Wk 2\")/2 AS avg_abut_hour, \"Pay\", (\"Pay\"/((\"Abutments/Hour Wk 1\" + \"Abutments/Hour Wk 2\")/2)) AS pay_abut FROM production_staff WHERE \"Abutments/Hour Wk 1\" <> 0 AND (\"Position\" = 'Production Technician I' OR \"Position\" = 'Production Technician II');\"\"\"\n",
    "cursor.execute(sql_str1)\n",
    "\n",
    "#Из таблицы hr_dataset выберем данные по источнику вакансии. Результат - во временную таблицу\n",
    "sql_str2 = \"\"\"CREATE TEMP TABLE hr AS SELECT \"Employee Name\" AS name1, \"Employee Source\" AS empl_source FROM hr_dataset;\"\"\"\n",
    "cursor.execute(sql_str2)\n",
    "\n",
    "#Заджойним временные таблицы по именам. Результат - также во временную таблицу\n",
    "sql_str3 = \"\"\"CREATE TEMP TABLE join_tab AS SELECT * FROM prod JOIN hr ON prod.name = hr.name1;\"\"\"\n",
    "cursor.execute(sql_str3)\n",
    "\n",
    "#Из последней таблицы получим средние значения производства абатментов, средней зарплаты на абатмент в разрезе источников вакансии\n",
    "sql_str4 = \"\"\"SELECT empl_source, ROUND(AVG(avg_abut_hour),2) AS mean_abut_hour, ROUND(AVG(pay_abut::numeric),2) FROM join_tab GROUP BY empl_source ORDER BY mean_abut_hour;\"\"\"\n",
    "cursor.execute(sql_str4)\n",
    "\n",
    "data_bases = [a for a in cursor.fetchall()]\n",
    "conn.commit()\n",
    "\n",
    "df_15 = pd.DataFrame(columns=['Empl_source', 'Mean_Abutments_Hour, pieces', 'Salary_for_one_abutment, $'])\n",
    "\n",
    "for item, raw in enumerate(data_bases):\n",
    "    df_15.loc[item] = raw\n",
    "df_15.index = df_15['Empl_source']\n",
    "del df_15['Empl_source']"
   ]
  },
  {
   "cell_type": "markdown",
   "metadata": {},
   "source": [
    "#### [Наверх к содержанию](#Содержание)\n",
    "\n",
    "Визуально видно, наилучшее соотношение производительности труда и расходов зарплаты на единицу продукции у сотрудников, \"пришедших\" с сайта monster.com и с веб-приложения."
   ]
  },
  {
   "cell_type": "code",
   "execution_count": 114,
   "metadata": {},
   "outputs": [
    {
     "data": {
      "text/html": [
       "<div>\n",
       "<style scoped>\n",
       "    .dataframe tbody tr th:only-of-type {\n",
       "        vertical-align: middle;\n",
       "    }\n",
       "\n",
       "    .dataframe tbody tr th {\n",
       "        vertical-align: top;\n",
       "    }\n",
       "\n",
       "    .dataframe thead th {\n",
       "        text-align: right;\n",
       "    }\n",
       "</style>\n",
       "<table border=\"1\" class=\"dataframe\">\n",
       "  <thead>\n",
       "    <tr style=\"text-align: right;\">\n",
       "      <th></th>\n",
       "      <th>Mean_Abutments_Hour, pieces</th>\n",
       "      <th>Salary_for_one_abutment, $</th>\n",
       "    </tr>\n",
       "    <tr>\n",
       "      <th>Empl_source</th>\n",
       "      <th></th>\n",
       "      <th></th>\n",
       "    </tr>\n",
       "  </thead>\n",
       "  <tbody>\n",
       "    <tr>\n",
       "      <th>Pay Per Click</th>\n",
       "      <td>5.00</td>\n",
       "      <td>3.00</td>\n",
       "    </tr>\n",
       "    <tr>\n",
       "      <th>Careerbuilder</th>\n",
       "      <td>7.00</td>\n",
       "      <td>3.71</td>\n",
       "    </tr>\n",
       "    <tr>\n",
       "      <th>Other</th>\n",
       "      <td>7.50</td>\n",
       "      <td>3.28</td>\n",
       "    </tr>\n",
       "    <tr>\n",
       "      <th>Website Banner Ads</th>\n",
       "      <td>9.00</td>\n",
       "      <td>2.16</td>\n",
       "    </tr>\n",
       "    <tr>\n",
       "      <th>Internet Search</th>\n",
       "      <td>9.00</td>\n",
       "      <td>2.28</td>\n",
       "    </tr>\n",
       "    <tr>\n",
       "      <th>Employee Referral</th>\n",
       "      <td>9.23</td>\n",
       "      <td>2.94</td>\n",
       "    </tr>\n",
       "    <tr>\n",
       "      <th>Vendor Referral</th>\n",
       "      <td>9.25</td>\n",
       "      <td>2.73</td>\n",
       "    </tr>\n",
       "    <tr>\n",
       "      <th>Word of Mouth</th>\n",
       "      <td>9.31</td>\n",
       "      <td>3.10</td>\n",
       "    </tr>\n",
       "    <tr>\n",
       "      <th>Social Networks - Facebook Twitter etc</th>\n",
       "      <td>9.44</td>\n",
       "      <td>2.30</td>\n",
       "    </tr>\n",
       "    <tr>\n",
       "      <th>Glassdoor</th>\n",
       "      <td>9.89</td>\n",
       "      <td>2.94</td>\n",
       "    </tr>\n",
       "    <tr>\n",
       "      <th>Search Engine - Google Bing Yahoo</th>\n",
       "      <td>9.95</td>\n",
       "      <td>2.55</td>\n",
       "    </tr>\n",
       "    <tr>\n",
       "      <th>Diversity Job Fair</th>\n",
       "      <td>10.00</td>\n",
       "      <td>2.25</td>\n",
       "    </tr>\n",
       "    <tr>\n",
       "      <th>Billboard</th>\n",
       "      <td>10.27</td>\n",
       "      <td>2.17</td>\n",
       "    </tr>\n",
       "    <tr>\n",
       "      <th>Newspager/Magazine</th>\n",
       "      <td>10.47</td>\n",
       "      <td>2.46</td>\n",
       "    </tr>\n",
       "    <tr>\n",
       "      <th>Information Session</th>\n",
       "      <td>10.50</td>\n",
       "      <td>2.46</td>\n",
       "    </tr>\n",
       "    <tr>\n",
       "      <th>Professional Society</th>\n",
       "      <td>10.93</td>\n",
       "      <td>2.59</td>\n",
       "    </tr>\n",
       "    <tr>\n",
       "      <th>Pay Per Click - Google</th>\n",
       "      <td>11.00</td>\n",
       "      <td>2.53</td>\n",
       "    </tr>\n",
       "    <tr>\n",
       "      <th>On-campus Recruiting</th>\n",
       "      <td>11.09</td>\n",
       "      <td>2.00</td>\n",
       "    </tr>\n",
       "    <tr>\n",
       "      <th>MBTA ads</th>\n",
       "      <td>11.27</td>\n",
       "      <td>2.22</td>\n",
       "    </tr>\n",
       "    <tr>\n",
       "      <th>On-line Web application</th>\n",
       "      <td>12.00</td>\n",
       "      <td>1.50</td>\n",
       "    </tr>\n",
       "    <tr>\n",
       "      <th>Monster.com</th>\n",
       "      <td>12.20</td>\n",
       "      <td>1.90</td>\n",
       "    </tr>\n",
       "  </tbody>\n",
       "</table>\n",
       "</div>"
      ],
      "text/plain": [
       "                                       Mean_Abutments_Hour, pieces  \\\n",
       "Empl_source                                                          \n",
       "Pay Per Click                                                 5.00   \n",
       "Careerbuilder                                                 7.00   \n",
       "Other                                                         7.50   \n",
       "Website Banner Ads                                            9.00   \n",
       "Internet Search                                               9.00   \n",
       "Employee Referral                                             9.23   \n",
       "Vendor Referral                                               9.25   \n",
       "Word of Mouth                                                 9.31   \n",
       "Social Networks - Facebook Twitter etc                        9.44   \n",
       "Glassdoor                                                     9.89   \n",
       "Search Engine - Google Bing Yahoo                             9.95   \n",
       "Diversity Job Fair                                           10.00   \n",
       "Billboard                                                    10.27   \n",
       "Newspager/Magazine                                           10.47   \n",
       "Information Session                                          10.50   \n",
       "Professional Society                                         10.93   \n",
       "Pay Per Click - Google                                       11.00   \n",
       "On-campus Recruiting                                         11.09   \n",
       "MBTA ads                                                     11.27   \n",
       "On-line Web application                                      12.00   \n",
       "Monster.com                                                  12.20   \n",
       "\n",
       "                                       Salary_for_one_abutment, $  \n",
       "Empl_source                                                        \n",
       "Pay Per Click                                                3.00  \n",
       "Careerbuilder                                                3.71  \n",
       "Other                                                        3.28  \n",
       "Website Banner Ads                                           2.16  \n",
       "Internet Search                                              2.28  \n",
       "Employee Referral                                            2.94  \n",
       "Vendor Referral                                              2.73  \n",
       "Word of Mouth                                                3.10  \n",
       "Social Networks - Facebook Twitter etc                       2.30  \n",
       "Glassdoor                                                    2.94  \n",
       "Search Engine - Google Bing Yahoo                            2.55  \n",
       "Diversity Job Fair                                           2.25  \n",
       "Billboard                                                    2.17  \n",
       "Newspager/Magazine                                           2.46  \n",
       "Information Session                                          2.46  \n",
       "Professional Society                                         2.59  \n",
       "Pay Per Click - Google                                       2.53  \n",
       "On-campus Recruiting                                         2.00  \n",
       "MBTA ads                                                     2.22  \n",
       "On-line Web application                                      1.50  \n",
       "Monster.com                                                  1.90  "
      ]
     },
     "execution_count": 114,
     "metadata": {},
     "output_type": "execute_result"
    },
    {
     "data": {
      "image/png": "[encoded data removed]",
      "text/plain": [
       "<Figure size 432x288 with 1 Axes>"
      ]
     },
     "metadata": {
      "needs_background": "light"
     },
     "output_type": "display_data"
    }
   ],
   "source": [
    "df_15.apply(pd.to_numeric).plot.bar().legend(bbox_to_anchor=(1.2, 0.5))\n",
    "df_15"
   ]
  },
  {
   "cell_type": "markdown",
   "metadata": {},
   "source": [
    "### Рекомендации по набору персонала\n",
    "\n",
    "#### [Наверх к содержанию](#Содержание)\n",
    "\n",
    "Следующие характеристики кандидата вероятно положительным образом скажутся на производительности труда - мужчина, в разводе, гражданин США или в статусе иммигранта, коренной житель Америки/Аляски, откликнувшийся с сайта monster.com. Таким образом, при прочих равных условиях вышеописанные характеристики могут сыграть превалирующую роль в выборе того или иного кандидата."
   ]
  },
  {
   "cell_type": "markdown",
   "metadata": {},
   "source": [
    "### Рекомендации по работе с текущим персоналом\n",
    "\n",
    "#### [Наверх к содержанию](#Содержание)"
   ]
  },
  {
   "cell_type": "code",
   "execution_count": 129,
   "metadata": {},
   "outputs": [],
   "source": [
    "#Посмотрим, как соотносятся между собой оценки производительности (Exceeds Exceptional Fully_Meets PIP Needs_Improvement)\n",
    "#и среднние значения по производству абатментов, сгруппированные по менеджерам.\n",
    "pg_connection = {\n",
    "    \"host\": \"dsstudents.skillbox.ru\",\n",
    "    \"port\": 5432,\n",
    "    \"dbname\": \"human_resources\",\n",
    "    \"user\": \"readonly\",\n",
    "    \"password\": \"6hajV34RTQfmxhS\"\n",
    "}\n",
    "conn = psycopg2.connect(**pg_connection)\n",
    "cursor = conn.cursor()\n",
    "\n",
    "#Из таблицы production_staff выберем строки с менеджерами, оценкой, показателями производства абатментов за 1 и 2 недели\n",
    "#также добавим столбец со средним значением абатментов за две недели по каждому сотруднику\n",
    "#выборка включает в себя только сотрудников с должностями Production Technician (I и II)\n",
    "#Результат сохраним во временную таблицу\n",
    "sql_str1 = \"\"\"CREATE TEMP TABLE prod AS SELECT \"Manager Name\" AS manager, \"Performance Score\" AS score, \"Position\", \"Abutments/Hour Wk 1\" AS Abutments_Hour_Wk_1, \"Abutments/Hour Wk 2\" AS Abutments_Hour_Wk_2, (\"Abutments/Hour Wk 1\" + \"Abutments/Hour Wk 2\")/2 AS avg_abut_hour FROM production_staff WHERE \"Abutments/Hour Wk 1\" <> 0 AND (\"Position\" = 'Production Technician I' OR \"Position\" = 'Production Technician II');\"\"\"\n",
    "cursor.execute(sql_str1)\n",
    "\n",
    "# создадим временную таблицу, содержащую среднее количество производимых абатментов на сотрудника с оценкой exceeds в разрезе менеджеров\n",
    "sql_str2 = \"\"\"CREATE TEMP TABLE exceeds AS SELECT manager, ROUND(AVG(avg_abut_hour),2) AS mean_abut_hour FROM prod WHERE score = 'Exceeds' GROUP BY manager;\"\"\"\n",
    "cursor.execute(sql_str2)\n",
    "\n",
    "# такая же по оценке exceptional\n",
    "sql_str3 = \"\"\"CREATE TEMP TABLE exceptional AS SELECT manager, ROUND(AVG(avg_abut_hour),2) AS mean_abut_hour FROM prod WHERE score = 'Exceptional' GROUP BY manager;\"\"\"\n",
    "cursor.execute(sql_str3)\n",
    "\n",
    "# такая же по оценке fully_meets\n",
    "sql_str4 = \"\"\"CREATE TEMP TABLE fully_meets AS SELECT manager, ROUND(AVG(avg_abut_hour),2) AS mean_abut_hour FROM prod WHERE score = 'Fully Meets' GROUP BY manager;\"\"\"\n",
    "cursor.execute(sql_str4)\n",
    "\n",
    "# такая же по оценке pip\n",
    "sql_str5 = \"\"\"CREATE TEMP TABLE pip AS SELECT manager, ROUND(AVG(avg_abut_hour),2) AS mean_abut_hour FROM prod WHERE score = 'PIP' GROUP BY manager;\"\"\"\n",
    "cursor.execute(sql_str5)\n",
    "\n",
    "# такая же по оценке needs_improvement\n",
    "sql_str6 = \"\"\"CREATE TEMP TABLE needs_improvement AS SELECT manager, ROUND(AVG(avg_abut_hour),2) AS mean_abut_hour FROM prod WHERE score = 'Needs Improvement' GROUP BY manager;\"\"\"\n",
    "cursor.execute(sql_str6)\n",
    "\n",
    "# соединим результаты прошлый таблиц в одну\n",
    "sql_str7 = \"\"\"SELECT * FROM exceeds FULL JOIN exceptional ON exceptional.manager = exceeds.manager FULL JOIN fully_meets ON fully_meets.manager = exceeds.manager FULL JOIN pip ON pip.manager = exceeds.manager FULL JOIN needs_improvement ON needs_improvement.manager = exceeds.manager;\"\"\"\n",
    "cursor.execute(sql_str7)\n",
    "\n",
    "data_bases = [a for a in cursor.fetchall()]\n",
    "conn.commit()\n",
    "\n",
    "df_16 = pd.DataFrame(columns=['Manager', 'Exceeds', 'Manager2', 'Exceptional', 'Manager3', 'Fully_Meets', 'Manager4', 'PIP', 'Manager5', 'Needs_Improvement'])\n",
    "\n",
    "for item, raw in enumerate(data_bases):\n",
    "    df_16.loc[item] = raw\n",
    "df_16.index = df_16['Manager']\n",
    "del df_16['Manager']\n",
    "del df_16['Manager2']\n",
    "del df_16['Manager3']\n",
    "del df_16['Manager4']\n",
    "del df_16['Manager5']"
   ]
  },
  {
   "cell_type": "markdown",
   "metadata": {},
   "source": [
    "#### [Наверх к содержанию](#Содержание)\n",
    "\n",
    "По графику визуально заметно, что в командах некоторых менеджеров присутствуют перекосы между показателями Performance Score и производительностью труда (среднее количество производимых абатментов в час на сотрудника). Например у менеджера Brannon Miller есть подчиненные с оценкой PIP (план улучшения производительности), производящие в среднем 12,5 единиц продукции, что больше чем в группах с оценкой Exceptional и Fully_Meets. Таким образом, план улучшения производительности выполнен и по таким сотрудникам необходимо пересмотреть Performance Score в сторону улучшения. Такая же картина в группе у Michael Albert.\n",
    "Ketsia Liebig - в группе у этого менеджера сотрудники с оценкой Needs_Improvement (требуется улучшение) производят больше, чем в группах с оценкой Exceeds и Fully_Meets.\n",
    "Общая рекомендация - по вышеуказанным менеджерам необходима переоценка по Performance Score сотрудников."
   ]
  },
  {
   "cell_type": "code",
   "execution_count": 140,
   "metadata": {},
   "outputs": [
    {
     "data": {
      "text/html": [
       "<div>\n",
       "<style scoped>\n",
       "    .dataframe tbody tr th:only-of-type {\n",
       "        vertical-align: middle;\n",
       "    }\n",
       "\n",
       "    .dataframe tbody tr th {\n",
       "        vertical-align: top;\n",
       "    }\n",
       "\n",
       "    .dataframe thead th {\n",
       "        text-align: right;\n",
       "    }\n",
       "</style>\n",
       "<table border=\"1\" class=\"dataframe\">\n",
       "  <thead>\n",
       "    <tr style=\"text-align: right;\">\n",
       "      <th></th>\n",
       "      <th>Exceeds</th>\n",
       "      <th>Exceptional</th>\n",
       "      <th>Fully_Meets</th>\n",
       "      <th>PIP</th>\n",
       "      <th>Needs_Improvement</th>\n",
       "    </tr>\n",
       "    <tr>\n",
       "      <th>Manager</th>\n",
       "      <th></th>\n",
       "      <th></th>\n",
       "      <th></th>\n",
       "      <th></th>\n",
       "      <th></th>\n",
       "    </tr>\n",
       "  </thead>\n",
       "  <tbody>\n",
       "    <tr>\n",
       "      <th>Amy Dunn</th>\n",
       "      <td>16.50</td>\n",
       "      <td>19.00</td>\n",
       "      <td>11.27</td>\n",
       "      <td>3.00</td>\n",
       "      <td>None</td>\n",
       "    </tr>\n",
       "    <tr>\n",
       "      <th>Brannon Miller</th>\n",
       "      <td>14.60</td>\n",
       "      <td>10.50</td>\n",
       "      <td>9.75</td>\n",
       "      <td>12.50</td>\n",
       "      <td>3.00</td>\n",
       "    </tr>\n",
       "    <tr>\n",
       "      <th>David Stanley</th>\n",
       "      <td>9.00</td>\n",
       "      <td>None</td>\n",
       "      <td>11.20</td>\n",
       "      <td>None</td>\n",
       "      <td>None</td>\n",
       "    </tr>\n",
       "    <tr>\n",
       "      <th>Elijiah Gray</th>\n",
       "      <td>11.50</td>\n",
       "      <td>None</td>\n",
       "      <td>10.86</td>\n",
       "      <td>None</td>\n",
       "      <td>7.00</td>\n",
       "    </tr>\n",
       "    <tr>\n",
       "      <th>Kelley Spirea</th>\n",
       "      <td>8.67</td>\n",
       "      <td>None</td>\n",
       "      <td>10.40</td>\n",
       "      <td>None</td>\n",
       "      <td>None</td>\n",
       "    </tr>\n",
       "    <tr>\n",
       "      <th>Ketsia Liebig</th>\n",
       "      <td>13.50</td>\n",
       "      <td>None</td>\n",
       "      <td>9.36</td>\n",
       "      <td>None</td>\n",
       "      <td>18.00</td>\n",
       "    </tr>\n",
       "    <tr>\n",
       "      <th>Kissy Sullivan</th>\n",
       "      <td>15.00</td>\n",
       "      <td>11.00</td>\n",
       "      <td>10.62</td>\n",
       "      <td>3.00</td>\n",
       "      <td>4.00</td>\n",
       "    </tr>\n",
       "    <tr>\n",
       "      <th>Michael Albert</th>\n",
       "      <td>17.00</td>\n",
       "      <td>None</td>\n",
       "      <td>11.40</td>\n",
       "      <td>13.00</td>\n",
       "      <td>5.67</td>\n",
       "    </tr>\n",
       "    <tr>\n",
       "      <th>Webster Butler</th>\n",
       "      <td>14.50</td>\n",
       "      <td>None</td>\n",
       "      <td>10.73</td>\n",
       "      <td>None</td>\n",
       "      <td>4.50</td>\n",
       "    </tr>\n",
       "  </tbody>\n",
       "</table>\n",
       "</div>"
      ],
      "text/plain": [
       "               Exceeds Exceptional Fully_Meets    PIP Needs_Improvement\n",
       "Manager                                                                \n",
       "Amy Dunn         16.50       19.00       11.27   3.00              None\n",
       "Brannon Miller   14.60       10.50        9.75  12.50              3.00\n",
       "David Stanley     9.00        None       11.20   None              None\n",
       "Elijiah Gray     11.50        None       10.86   None              7.00\n",
       "Kelley Spirea     8.67        None       10.40   None              None\n",
       "Ketsia Liebig    13.50        None        9.36   None             18.00\n",
       "Kissy Sullivan   15.00       11.00       10.62   3.00              4.00\n",
       "Michael Albert   17.00        None       11.40  13.00              5.67\n",
       "Webster Butler   14.50        None       10.73   None              4.50"
      ]
     },
     "execution_count": 140,
     "metadata": {},
     "output_type": "execute_result"
    },
    {
     "data": {
      "image/png": "[encoded data removed]",
      "text/plain": [
       "<Figure size 432x288 with 1 Axes>"
      ]
     },
     "metadata": {
      "needs_background": "light"
     },
     "output_type": "display_data"
    }
   ],
   "source": [
    "df_16.apply(pd.to_numeric).plot(kind='bar',stacked=True).legend(bbox_to_anchor=(1.2, 0.5))\n",
    "df_16"
   ]
  },
  {
   "cell_type": "markdown",
   "metadata": {},
   "source": [
    "## Анализ расходов на подбор персонала\n",
    "\n",
    "### [Наверх к содержанию](#Содержание)"
   ]
  },
  {
   "cell_type": "code",
   "execution_count": 335,
   "metadata": {},
   "outputs": [
    {
     "data": {
      "text/html": [
       "<div>\n",
       "<style scoped>\n",
       "    .dataframe tbody tr th:only-of-type {\n",
       "        vertical-align: middle;\n",
       "    }\n",
       "\n",
       "    .dataframe tbody tr th {\n",
       "        vertical-align: top;\n",
       "    }\n",
       "\n",
       "    .dataframe thead th {\n",
       "        text-align: right;\n",
       "    }\n",
       "</style>\n",
       "<table border=\"1\" class=\"dataframe\">\n",
       "  <thead>\n",
       "    <tr style=\"text-align: right;\">\n",
       "      <th></th>\n",
       "      <th>number_of_employees</th>\n",
       "      <th>recruiting_costs</th>\n",
       "      <th>recruiting_costs_of_one</th>\n",
       "    </tr>\n",
       "    <tr>\n",
       "      <th>employee_source</th>\n",
       "      <th></th>\n",
       "      <th></th>\n",
       "      <th></th>\n",
       "    </tr>\n",
       "  </thead>\n",
       "  <tbody>\n",
       "    <tr>\n",
       "      <th>Careerbuilder</th>\n",
       "      <td>1</td>\n",
       "      <td>7790</td>\n",
       "      <td>7790</td>\n",
       "    </tr>\n",
       "    <tr>\n",
       "      <th>Pay Per Click</th>\n",
       "      <td>1</td>\n",
       "      <td>1323</td>\n",
       "      <td>1323</td>\n",
       "    </tr>\n",
       "    <tr>\n",
       "      <th>MBTA ads</th>\n",
       "      <td>17</td>\n",
       "      <td>10980</td>\n",
       "      <td>645</td>\n",
       "    </tr>\n",
       "    <tr>\n",
       "      <th>On-campus Recruiting</th>\n",
       "      <td>12</td>\n",
       "      <td>7500</td>\n",
       "      <td>625</td>\n",
       "    </tr>\n",
       "    <tr>\n",
       "      <th>Website Banner Ads</th>\n",
       "      <td>13</td>\n",
       "      <td>7143</td>\n",
       "      <td>549</td>\n",
       "    </tr>\n",
       "    <tr>\n",
       "      <th>Social Networks - Facebook Twitter etc</th>\n",
       "      <td>11</td>\n",
       "      <td>5573</td>\n",
       "      <td>506</td>\n",
       "    </tr>\n",
       "    <tr>\n",
       "      <th>Newspager/Magazine</th>\n",
       "      <td>18</td>\n",
       "      <td>8291</td>\n",
       "      <td>460</td>\n",
       "    </tr>\n",
       "    <tr>\n",
       "      <th>Other</th>\n",
       "      <td>9</td>\n",
       "      <td>3995</td>\n",
       "      <td>443</td>\n",
       "    </tr>\n",
       "    <tr>\n",
       "      <th>Billboard</th>\n",
       "      <td>16</td>\n",
       "      <td>6192</td>\n",
       "      <td>387</td>\n",
       "    </tr>\n",
       "    <tr>\n",
       "      <th>Diversity Job Fair</th>\n",
       "      <td>29</td>\n",
       "      <td>10021</td>\n",
       "      <td>345</td>\n",
       "    </tr>\n",
       "    <tr>\n",
       "      <th>Monster.com</th>\n",
       "      <td>24</td>\n",
       "      <td>5760</td>\n",
       "      <td>240</td>\n",
       "    </tr>\n",
       "    <tr>\n",
       "      <th>Search Engine - Google Bing Yahoo</th>\n",
       "      <td>25</td>\n",
       "      <td>5183</td>\n",
       "      <td>207</td>\n",
       "    </tr>\n",
       "    <tr>\n",
       "      <th>Pay Per Click - Google</th>\n",
       "      <td>21</td>\n",
       "      <td>3509</td>\n",
       "      <td>167</td>\n",
       "    </tr>\n",
       "    <tr>\n",
       "      <th>Professional Society</th>\n",
       "      <td>20</td>\n",
       "      <td>1200</td>\n",
       "      <td>60</td>\n",
       "    </tr>\n",
       "    <tr>\n",
       "      <th>Employee Referral</th>\n",
       "      <td>31</td>\n",
       "      <td>0</td>\n",
       "      <td>0</td>\n",
       "    </tr>\n",
       "    <tr>\n",
       "      <th>On-line Web application</th>\n",
       "      <td>1</td>\n",
       "      <td>0</td>\n",
       "      <td>0</td>\n",
       "    </tr>\n",
       "    <tr>\n",
       "      <th>Information Session</th>\n",
       "      <td>4</td>\n",
       "      <td>0</td>\n",
       "      <td>0</td>\n",
       "    </tr>\n",
       "    <tr>\n",
       "      <th>Internet Search</th>\n",
       "      <td>6</td>\n",
       "      <td>0</td>\n",
       "      <td>0</td>\n",
       "    </tr>\n",
       "    <tr>\n",
       "      <th>Vendor Referral</th>\n",
       "      <td>15</td>\n",
       "      <td>0</td>\n",
       "      <td>0</td>\n",
       "    </tr>\n",
       "    <tr>\n",
       "      <th>Company Intranet - Partner</th>\n",
       "      <td>1</td>\n",
       "      <td>0</td>\n",
       "      <td>0</td>\n",
       "    </tr>\n",
       "    <tr>\n",
       "      <th>Glassdoor</th>\n",
       "      <td>14</td>\n",
       "      <td>0</td>\n",
       "      <td>0</td>\n",
       "    </tr>\n",
       "    <tr>\n",
       "      <th>Word of Mouth</th>\n",
       "      <td>13</td>\n",
       "      <td>0</td>\n",
       "      <td>0</td>\n",
       "    </tr>\n",
       "  </tbody>\n",
       "</table>\n",
       "</div>"
      ],
      "text/plain": [
       "                                       number_of_employees recruiting_costs  \\\n",
       "employee_source                                                               \n",
       "Careerbuilder                                            1             7790   \n",
       "Pay Per Click                                            1             1323   \n",
       "MBTA ads                                                17            10980   \n",
       "On-campus Recruiting                                    12             7500   \n",
       "Website Banner Ads                                      13             7143   \n",
       "Social Networks - Facebook Twitter etc                  11             5573   \n",
       "Newspager/Magazine                                      18             8291   \n",
       "Other                                                    9             3995   \n",
       "Billboard                                               16             6192   \n",
       "Diversity Job Fair                                      29            10021   \n",
       "Monster.com                                             24             5760   \n",
       "Search Engine - Google Bing Yahoo                       25             5183   \n",
       "Pay Per Click - Google                                  21             3509   \n",
       "Professional Society                                    20             1200   \n",
       "Employee Referral                                       31                0   \n",
       "On-line Web application                                  1                0   \n",
       "Information Session                                      4                0   \n",
       "Internet Search                                          6                0   \n",
       "Vendor Referral                                         15                0   \n",
       "Company Intranet - Partner                               1                0   \n",
       "Glassdoor                                               14                0   \n",
       "Word of Mouth                                           13                0   \n",
       "\n",
       "                                       recruiting_costs_of_one  \n",
       "employee_source                                                 \n",
       "Careerbuilder                                             7790  \n",
       "Pay Per Click                                             1323  \n",
       "MBTA ads                                                   645  \n",
       "On-campus Recruiting                                       625  \n",
       "Website Banner Ads                                         549  \n",
       "Social Networks - Facebook Twitter etc                     506  \n",
       "Newspager/Magazine                                         460  \n",
       "Other                                                      443  \n",
       "Billboard                                                  387  \n",
       "Diversity Job Fair                                         345  \n",
       "Monster.com                                                240  \n",
       "Search Engine - Google Bing Yahoo                          207  \n",
       "Pay Per Click - Google                                     167  \n",
       "Professional Society                                        60  \n",
       "Employee Referral                                            0  \n",
       "On-line Web application                                      0  \n",
       "Information Session                                          0  \n",
       "Internet Search                                              0  \n",
       "Vendor Referral                                              0  \n",
       "Company Intranet - Partner                                   0  \n",
       "Glassdoor                                                    0  \n",
       "Word of Mouth                                                0  "
      ]
     },
     "execution_count": 335,
     "metadata": {},
     "output_type": "execute_result"
    }
   ],
   "source": [
    "#Посмотрим годовые расходы на рекрутинг в расчете на одного сотрудника\n",
    "pg_connection = {\n",
    "    \"host\": \"dsstudents.skillbox.ru\",\n",
    "    \"port\": 5432,\n",
    "    \"dbname\": \"human_resources\",\n",
    "    \"user\": \"readonly\",\n",
    "    \"password\": \"6hajV34RTQfmxhS\"\n",
    "}\n",
    "conn = psycopg2.connect(**pg_connection)\n",
    "cursor = conn.cursor()\n",
    "# \n",
    "sql_str1 = \"\"\"CREATE TEMP TABLE employee_source AS SELECT\n",
    "COUNT(*) AS name, \n",
    "\"Employee Source\" AS employee_source \n",
    "FROM hr_dataset \n",
    "GROUP BY \"Employee Source\";\"\"\"\n",
    "cursor.execute(sql_str1)\n",
    "\n",
    "sql_str2 = \"\"\"CREATE TEMP TABLE rec_costs AS SELECT \n",
    "\"Employment Source\" AS employee_source11, \n",
    "\"Total\" \n",
    "FROM recruiting_costs;\"\"\"\n",
    "cursor.execute(sql_str2)\n",
    "\n",
    "sql_str3 = \"\"\"CREATE TEMP TABLE join_costs AS SELECT * FROM employee_source\n",
    "RIGHT JOIN rec_costs ON rec_costs.employee_source11 = employee_source.employee_source;\"\"\"\n",
    "cursor.execute(sql_str3)\n",
    "\n",
    "sql_str4 = \"\"\"SELECT name, employee_source, \"Total\", \"Total\"/name AS total_ed  FROM join_costs ORDER BY total_ed DESC;\"\"\"\n",
    "cursor.execute(sql_str4)\n",
    "\n",
    "data_bases = [a for a in cursor.fetchall()]\n",
    "conn.commit()\n",
    "\n",
    "df_17 = pd.DataFrame(columns=['number_of_employees', 'employee_source','recruiting_costs', 'recruiting_costs_of_one'])\n",
    "\n",
    "for item, raw in enumerate(data_bases):\n",
    "    df_17.loc[item] = raw\n",
    "df_17.index = df_17['employee_source']\n",
    "del df_17['employee_source']\n",
    "df_17"
   ]
  },
  {
   "cell_type": "markdown",
   "metadata": {},
   "source": [
    "При соотнесении двух графиков ниже, видно, что наиболее эффективными (с точки зрения количества привлеченного персонала и расходов в расчете на одного привлеченного специалиста) каналами привлечения сотрудников оказались средние по расходам: Billboard,  Diversity Job Fair, Monster.com, Search Engine - Google Bing Yahoo, Pay Per Click - Google, Professional Society. Некоторые \"бесплатные\" способы поиска сотрудников оказались не менее эффективными, чем более дорогие \"аналоги\" - Employee Referral, Vendor Referral, Glassdoor, Word of Mouth.\n",
    "Рекомендация сводится к следующему: пересмотреть расходы на рекрутинг, т.е. сократить работу с дорогими и неэффективными каналами поиска сотрудников - MBTA ads, MBTA ads, On-campus Recruiting, Website Banner Ads, Social Networks - Facebook Twitter etc, Newspager/Magazine."
   ]
  },
  {
   "cell_type": "code",
   "execution_count": 333,
   "metadata": {},
   "outputs": [
    {
     "data": {
      "text/plain": [
       "<matplotlib.axes._subplots.AxesSubplot at 0x21a9091d708>"
      ]
     },
     "execution_count": 333,
     "metadata": {},
     "output_type": "execute_result"
    },
    {
     "data": {
      "image/png": "[encoded data removed]",
      "text/plain": [
       "<Figure size 432x288 with 1 Axes>"
      ]
     },
     "metadata": {
      "needs_background": "light"
     },
     "output_type": "display_data"
    }
   ],
   "source": [
    "#Годовые расходы на рекрутинг в расчете на одного привлеченного сотрудника\n",
    "df_17[1:].recruiting_costs_of_one.plot(kind='bar',stacked=True)"
   ]
  },
  {
   "cell_type": "code",
   "execution_count": 334,
   "metadata": {},
   "outputs": [
    {
     "data": {
      "text/plain": [
       "<matplotlib.axes._subplots.AxesSubplot at 0x21a90a90d48>"
      ]
     },
     "execution_count": 334,
     "metadata": {},
     "output_type": "execute_result"
    },
    {
     "data": {
      "image/png": "[encoded data removed]",
      "text/plain": [
       "<Figure size 432x288 with 1 Axes>"
      ]
     },
     "metadata": {
      "needs_background": "light"
     },
     "output_type": "display_data"
    }
   ],
   "source": [
    "#Количество привлеченных сотрудников\n",
    "df_17[1:].number_of_employees.plot(kind='bar',stacked=True)"
   ]
  },
  {
   "cell_type": "markdown",
   "metadata": {
    "colab_type": "text",
    "id": "5OXer84FHVAU"
   },
   "source": [
    "## Часть вторая"
   ]
  },
  {
   "cell_type": "markdown",
   "metadata": {
    "colab_type": "text",
    "id": "8vS_kLIvHVAV"
   },
   "source": [
    "Перед вами стоит задача – подготовить аналитический ответ для SMM-отдела компании Skillbox. <br> Объектом анализа является  [паблик Skillbox Вконтакте](https://vk.com/skillbox_education). <br> <br> \n",
    "Подключитесь к  API VK и выгрузите посты со стены паблика Skillbox за интересующий период (определите самостоятельно и обоснуйте). Проанализируйте влияние различных факторов (например, времени публикации) на вовлеченность пользователей (количество лайков, комментариев, голосов в опросах). Сделайте аналитику по рубрикам (примеры рубрик: дизайн-битва, игра по управлению), которые есть в паблике. Выбрать нужные посты можно с помощью регулярных выражений. Составьте перечень рекомандаций для SMM-отдела по итогам анализа. <br> <br> \n",
    "\n",
    "Дополнительные инструкции по работе с API VK расположены [здесь](https://nbviewer.jupyter.org/github/vikaborel/dstutorials/blob/master/Дополнительные%20инструкции.ipynb)."
   ]
  },
  {
   "cell_type": "code",
   "execution_count": 0,
   "metadata": {
    "colab": {},
    "colab_type": "code",
    "id": "7SzjqiQLHVAW"
   },
   "outputs": [],
   "source": [
    "### YOUR CODE HERE ###\n",
    "\n",
    "\n"
   ]
  }
 ],
 "metadata": {
  "colab": {
   "collapsed_sections": [],
   "name": "Coursework_analytics_2.ipynb",
   "provenance": []
  },
  "hide_input": false,
  "kernelspec": {
   "display_name": "Python 3",
   "language": "python",
   "name": "python3"
  },
  "language_info": {
   "codemirror_mode": {
    "name": "ipython",
    "version": 3
   },
   "file_extension": ".py",
   "mimetype": "text/x-python",
   "name": "python",
   "nbconvert_exporter": "python",
   "pygments_lexer": "ipython3",
   "version": "3.7.5"
  },
  "varInspector": {
   "cols": {
    "lenName": 16,
    "lenType": 16,
    "lenVar": 40
   },
   "kernels_config": {
    "python": {
     "delete_cmd_postfix": "",
     "delete_cmd_prefix": "del ",
     "library": "var_list.py",
     "varRefreshCmd": "print(var_dic_list())"
    },
    "r": {
     "delete_cmd_postfix": ") ",
     "delete_cmd_prefix": "rm(",
     "library": "var_list.r",
     "varRefreshCmd": "cat(var_dic_list()) "
    }
   },
   "types_to_exclude": [
    "module",
    "function",
    "builtin_function_or_method",
    "instance",
    "_Feature"
   ],
   "window_display": false
  }
 },
 "nbformat": 4,
 "nbformat_minor": 1
}
